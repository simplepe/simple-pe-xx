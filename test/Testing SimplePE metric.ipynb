{
 "cells": [
  {
   "cell_type": "markdown",
   "id": "d069b654",
   "metadata": {},
   "source": [
    "Code to test that simple_pe metric does what we want"
   ]
  },
  {
   "cell_type": "code",
   "execution_count": 1,
   "id": "b1d03c10",
   "metadata": {},
   "outputs": [],
   "source": [
    "%matplotlib inline\n",
    "import matplotlib.pyplot as plt\n",
    "import numpy as np\n",
    "\n",
    "from pycbc import conversions, psd\n",
    "from pycbc.filter import match\n",
    "\n",
    "from simple_pe.param_est import metric\n",
    "from pesummary.utils.samples_dict import SamplesDict"
   ]
  },
  {
   "cell_type": "code",
   "execution_count": 2,
   "id": "4385f5f8",
   "metadata": {},
   "outputs": [],
   "source": [
    "import logging\n",
    "_logger = logging.getLogger('PESummary')\n",
    "_logger.setLevel(logging.CRITICAL + 10)"
   ]
  },
  {
   "cell_type": "code",
   "execution_count": 3,
   "id": "9350affa",
   "metadata": {},
   "outputs": [],
   "source": [
    "ifos = ['H1', 'L1', 'V1']\n",
    "\n",
    "psds = {'H1': 'aLIGOMidHighSensitivityP1200087',\n",
    "        'L1': 'aLIGOMidHighSensitivityP1200087',\n",
    "        'V1': 'AdVMidHighSensitivityP1200087',\n",
    "        'f_low': 20.,\n",
    "        'f_high': 8192,\n",
    "        'length': 32\n",
    "        }\n",
    "\n",
    "psds['delta_f'] = 1. / psds['length']"
   ]
  },
  {
   "cell_type": "code",
   "execution_count": 4,
   "id": "446df660",
   "metadata": {},
   "outputs": [
    {
     "name": "stderr",
     "output_type": "stream",
     "text": [
      "/home/spxsf2/miniconda3/envs/igwn-py39/lib/python3.9/site-packages/pycbc/types/array.py:390: RuntimeWarning: divide by zero encountered in true_divide\n",
      "  return self._data.__rtruediv__(other)\n"
     ]
    }
   ],
   "source": [
    "pycbc_psd = {}\n",
    "for ifo in ifos:\n",
    "    pycbc_psd[ifo] = psd.analytical.from_string(psds[ifo], psds['length'] * psds['f_high'] + 1, psds['delta_f'],\n",
    "                                                psds['f_low'])\n",
    "\n",
    "pycbc_psd['harm'] = 3. / sum([1. / pycbc_psd[ifo] for ifo in ifos])"
   ]
  },
  {
   "cell_type": "code",
   "execution_count": 5,
   "id": "a895b600",
   "metadata": {},
   "outputs": [],
   "source": [
    "m1 = 30.\n",
    "m2 = 10.\n",
    "mc = conversions.mchirp_from_mass1_mass2(m1, m2)\n",
    "mt = conversions.mtotal_from_mass1_mass2(m1, m2)\n",
    "eta = conversions.eta_from_mass1_mass2(m1, m2)\n",
    "s1z = 0.3\n",
    "s2z = 0.\n",
    "chi_eff = conversions.chi_eff(m1, m2, s1z, s2z)\n",
    "dist = 1."
   ]
  },
  {
   "cell_type": "code",
   "execution_count": 12,
   "id": "9b7e5ddc",
   "metadata": {},
   "outputs": [],
   "source": [
    "params = {'chirp_mass': mc,\n",
    "          'symmetric_mass_ratio': eta,\n",
    "          'chi_eff':chi_eff,\n",
    "          'distance':dist,\n",
    "        }"
   ]
  },
  {
   "cell_type": "code",
   "execution_count": 13,
   "id": "4d35ab44",
   "metadata": {},
   "outputs": [],
   "source": [
    "dx = {'chirp_mass':0.5, \n",
    "          'symmetric_mass_ratio':0.02,\n",
    "          'chi_eff':0.02\n",
    "         }"
   ]
  },
  {
   "cell_type": "markdown",
   "id": "21a4e397",
   "metadata": {},
   "source": [
    "Make original and varied waveform"
   ]
  },
  {
   "cell_type": "code",
   "execution_count": 15,
   "id": "7c2a8b12",
   "metadata": {},
   "outputs": [],
   "source": [
    "h = metric.make_waveform(params, psds['delta_f'], psds['f_low'], len(pycbc_psd['harm']))\n",
    "h_prime = metric.make_offset_waveform(params, dx, 1, psds['delta_f'], psds['f_low'], len(pycbc_psd['harm']))"
   ]
  },
  {
   "cell_type": "code",
   "execution_count": 16,
   "id": "0d9bd585",
   "metadata": {},
   "outputs": [
    {
     "data": {
      "image/png": "[encoded data removed]",
      "text/plain": [
       "<Figure size 432x288 with 1 Axes>"
      ]
     },
     "metadata": {
      "needs_background": "light"
     },
     "output_type": "display_data"
    }
   ],
   "source": [
    "plt.loglog(h.sample_frequencies, abs(h))\n",
    "plt.loglog(h_prime.sample_frequencies, abs(h_prime))\n",
    "plt.xlim(20,1000)\n",
    "plt.grid()"
   ]
  },
  {
   "cell_type": "markdown",
   "id": "c54033ad",
   "metadata": {},
   "source": [
    "Check that the parameters are physical"
   ]
  },
  {
   "cell_type": "code",
   "execution_count": 17,
   "id": "80f4fdac",
   "metadata": {},
   "outputs": [],
   "source": [
    "scales = np.linspace(-10,10,21)\n",
    "alphas = np.zeros_like(scales)\n",
    "for i,s in enumerate(scales):\n",
    "    alphas[i] = metric.check_physical(params, dx, scaling=s)"
   ]
  },
  {
   "cell_type": "code",
   "execution_count": 18,
   "id": "3464e0f5",
   "metadata": {},
   "outputs": [
    {
     "data": {
      "image/png": "[encoded data removed]",
      "text/plain": [
       "<Figure size 432x288 with 2 Axes>"
      ]
     },
     "metadata": {
      "needs_background": "light"
     },
     "output_type": "display_data"
    }
   ],
   "source": [
    "fig, (ax1, ax2) = plt.subplots(2)\n",
    "ax1.plot(scales, scales*alphas)\n",
    "ax1.set(ylabel='scale * alpha')\n",
    "ax1.grid()\n",
    "\n",
    "ax2.plot(scales, alphas)\n",
    "ax2.set(xlabel='scale', ylabel='alpha')\n",
    "ax2.grid()"
   ]
  },
  {
   "cell_type": "code",
   "execution_count": 19,
   "id": "91097bb5",
   "metadata": {},
   "outputs": [
    {
     "name": "stdout",
     "output_type": "stream",
     "text": [
      "chirp_mass at lower limit: 10.96\n",
      "chirp_mass at upper limit: 16.21\n",
      "symmetric_mass_ratio at lower limit: 0.04\n",
      "symmetric_mass_ratio at upper limit: 0.25\n",
      "chi_eff at lower limit: 0.08\n",
      "chi_eff at upper limit: 0.29\n"
     ]
    }
   ],
   "source": [
    "for k,i in dx.items():\n",
    "    print('%s at lower limit: %.2f' % (k, params[k] + i * (alphas[0] * scales[0])))\n",
    "    print('%s at upper limit: %.2f' % (k, params[k] + i * (alphas[-1] * scales[-1])))"
   ]
  },
  {
   "cell_type": "markdown",
   "id": "f8c3e14a",
   "metadata": {},
   "source": [
    "Check average mismatch"
   ]
  },
  {
   "cell_type": "code",
   "execution_count": 20,
   "id": "27dbeffa",
   "metadata": {},
   "outputs": [],
   "source": [
    "dist=1.\n",
    "scaling=1."
   ]
  },
  {
   "cell_type": "code",
   "execution_count": 22,
   "id": "998e39c0",
   "metadata": {},
   "outputs": [
    {
     "name": "stdout",
     "output_type": "stream",
     "text": [
      "Had to scale steps to 1.00, 1.00\n",
      "Mismatches 0.111, 0.119\n"
     ]
    },
    {
     "data": {
      "text/plain": [
       "0.11543725206730437"
      ]
     },
     "execution_count": 22,
     "metadata": {},
     "output_type": "execute_result"
    }
   ],
   "source": [
    "metric.average_mismatch(params, dx, scaling, psds['f_low'], pycbc_psd['harm'], verbose=True)"
   ]
  },
  {
   "cell_type": "markdown",
   "id": "e5505d8d",
   "metadata": {},
   "source": [
    "Check scaling of vector to desired mismatch"
   ]
  },
  {
   "cell_type": "code",
   "execution_count": 24,
   "id": "d7ffdb69",
   "metadata": {},
   "outputs": [],
   "source": [
    "desired_mismatch = 0.03\n",
    "scale = metric.scale_dx(params, dx, desired_mismatch, psds['f_low'], pycbc_psd['harm'])"
   ]
  },
  {
   "cell_type": "markdown",
   "id": "a0e334c2",
   "metadata": {},
   "source": [
    "Check this is right"
   ]
  },
  {
   "cell_type": "code",
   "execution_count": 26,
   "id": "0384069a",
   "metadata": {},
   "outputs": [
    {
     "name": "stdout",
     "output_type": "stream",
     "text": [
      "Had to scale steps to 1.00, 1.00\n",
      "Mismatches 0.030, 0.030\n",
      "desired mismatch = 0.03, average mismatch returned = 0.0301\n"
     ]
    }
   ],
   "source": [
    "ave_mis = metric.average_mismatch(params, dx, scale, psds['f_low'], pycbc_psd['harm'], verbose=True)\n",
    "print(\"desired mismatch = %.3g, average mismatch returned = %.3g\" % (desired_mismatch, ave_mis))"
   ]
  },
  {
   "cell_type": "markdown",
   "id": "9e2ea2f7",
   "metadata": {},
   "source": [
    "Calculate the metric"
   ]
  },
  {
   "cell_type": "code",
   "execution_count": 27,
   "id": "93db0c51",
   "metadata": {},
   "outputs": [],
   "source": [
    "g = metric.Metric(params, dx.keys(), desired_mismatch, psds['f_low'], pycbc_psd['harm'], \n",
    "                  approximant=\"IMRPhenomD\", tolerance=1e-2)"
   ]
  },
  {
   "cell_type": "markdown",
   "id": "c53092b5",
   "metadata": {},
   "source": [
    "Print the directions used to calculate the metric and the coordinate metric along these directions"
   ]
  },
  {
   "cell_type": "code",
   "execution_count": 28,
   "id": "4e4ef327",
   "metadata": {},
   "outputs": [
    {
     "name": "stdout",
     "output_type": "stream",
     "text": [
      "idx     chirp_mass     symmetric_mass_ratiochi_eff        \n",
      "0       0.084203       0.000000       0.000000       \n",
      "1       0.000000       0.007318       0.000000       \n",
      "2       0.000000       0.000000       0.023374       \n",
      "\n",
      "[[ 0.02995476 -0.02800053 -0.02820465]\n",
      " [-0.02800053  0.02987847  0.02920767]\n",
      " [-0.02820465  0.02920767  0.03004795]]\n"
     ]
    }
   ],
   "source": [
    "print(g.dxs)\n",
    "print(g.coordinate_metric)"
   ]
  },
  {
   "cell_type": "markdown",
   "id": "db08730c",
   "metadata": {},
   "source": [
    "Now, update the metric.  We should have new directions and a better (more close to diagonal) metric"
   ]
  },
  {
   "cell_type": "code",
   "execution_count": 29,
   "id": "57db6ede",
   "metadata": {},
   "outputs": [
    {
     "name": "stdout",
     "output_type": "stream",
     "text": [
      "metric error = 0.029\n"
     ]
    }
   ],
   "source": [
    "g.calc_metric_error()\n",
    "print(\"metric error = %.2g\" %g.err)"
   ]
  },
  {
   "cell_type": "code",
   "execution_count": 30,
   "id": "33b48b8d",
   "metadata": {},
   "outputs": [],
   "source": [
    "g.update_metric()"
   ]
  },
  {
   "cell_type": "code",
   "execution_count": 31,
   "id": "200ce63d",
   "metadata": {},
   "outputs": [
    {
     "name": "stdout",
     "output_type": "stream",
     "text": [
      "idx     chirp_mass     symmetric_mass_ratiochi_eff        \n",
      "0       0.000544       -0.006651      -0.002045      \n",
      "1       -0.346890      -0.008828      -0.063490      \n",
      "2       -0.052658      -0.096914      0.301183       \n",
      "\n",
      "[[ 0.03002644 -0.001474   -0.00518798]\n",
      " [-0.001474    0.02992953  0.01329947]\n",
      " [-0.00518798  0.01329947  0.02989492]]\n",
      "metric error = 0.013\n"
     ]
    }
   ],
   "source": [
    "print(g.dxs)\n",
    "print(g.coordinate_metric)\n",
    "g.calc_metric_error()\n",
    "print(\"metric error = %.2g\" %g.err)"
   ]
  },
  {
   "cell_type": "code",
   "execution_count": 32,
   "id": "cdb748eb",
   "metadata": {},
   "outputs": [],
   "source": [
    "g.iteratively_update_metric()"
   ]
  },
  {
   "cell_type": "code",
   "execution_count": 33,
   "id": "3b137b5b",
   "metadata": {},
   "outputs": [
    {
     "name": "stdout",
     "output_type": "stream",
     "text": [
      "idx     chirp_mass     symmetric_mass_ratiochi_eff        \n",
      "0       -0.000521      0.006641       0.002084       \n",
      "1       0.210278       0.058881       -0.135005      \n",
      "2       0.192429       -0.069453      0.269428       \n",
      "\n",
      "[[ 3.00348234e-02  6.82013954e-05 -4.51147316e-05]\n",
      " [ 6.82013954e-05  3.00108809e-02 -2.43352073e-05]\n",
      " [-4.51147316e-05 -2.43352073e-05  2.99494223e-02]]\n",
      "metric error = 6.8e-05\n"
     ]
    }
   ],
   "source": [
    "print(g.dxs)\n",
    "print(g.coordinate_metric)\n",
    "g.calc_metric_error()\n",
    "print(\"metric error = %.2g\" %g.err)"
   ]
  },
  {
   "cell_type": "code",
   "execution_count": 34,
   "id": "10dc3af3",
   "metadata": {},
   "outputs": [],
   "source": [
    "projected_directions = ['symmetric_mass_ratio', 'chi_eff']"
   ]
  },
  {
   "cell_type": "code",
   "execution_count": 35,
   "id": "03e76593",
   "metadata": {},
   "outputs": [],
   "source": [
    "g.project_metric(projected_directions)"
   ]
  },
  {
   "cell_type": "code",
   "execution_count": 36,
   "id": "6a7b6438",
   "metadata": {},
   "outputs": [
    {
     "name": "stdout",
     "output_type": "stream",
     "text": [
      "[[  3.82655375 -43.7379831  -13.81930631]\n",
      " [-43.7379831  558.08112731 175.00957733]\n",
      " [-13.81930631 175.00957733  55.23847401]]\n"
     ]
    }
   ],
   "source": [
    "print(g.metric)"
   ]
  },
  {
   "cell_type": "code",
   "execution_count": 37,
   "id": "534ea1cc",
   "metadata": {},
   "outputs": [
    {
     "name": "stdout",
     "output_type": "stream",
     "text": [
      "['symmetric_mass_ratio', 'chi_eff']\n",
      "[[58.1505663  17.05319557]\n",
      " [17.05319557  5.3311059 ]]\n"
     ]
    }
   ],
   "source": [
    "print(g.projected_directions)\n",
    "print(g.projected_metric)"
   ]
  },
  {
   "cell_type": "code",
   "execution_count": 38,
   "id": "de1c1d40",
   "metadata": {},
   "outputs": [],
   "source": [
    "kept = np.ones(g.ndim, dtype=bool)\n",
    "for i,x in enumerate(g.dx_directions):\n",
    "            if x not in projected_directions:\n",
    "                kept[i] = False"
   ]
  },
  {
   "cell_type": "code",
   "execution_count": 39,
   "id": "b10f6e09",
   "metadata": {},
   "outputs": [
    {
     "data": {
      "text/plain": [
       "array([False,  True,  True])"
      ]
     },
     "execution_count": 39,
     "metadata": {},
     "output_type": "execute_result"
    }
   ],
   "source": [
    "kept"
   ]
  },
  {
   "cell_type": "code",
   "execution_count": 40,
   "id": "66607e20",
   "metadata": {},
   "outputs": [],
   "source": [
    "ginv = np.linalg.inv(g.metric)\n",
    "projected_metric = np.linalg.inv(ginv[kept][:,kept])"
   ]
  },
  {
   "cell_type": "code",
   "execution_count": 41,
   "id": "d06c9f09",
   "metadata": {},
   "outputs": [
    {
     "name": "stdout",
     "output_type": "stream",
     "text": [
      "[[58.1505663  17.05319557]\n",
      " [17.05319557  5.3311059 ]]\n"
     ]
    }
   ],
   "source": [
    "print(projected_metric)"
   ]
  },
  {
   "cell_type": "code",
   "execution_count": null,
   "id": "9168208d",
   "metadata": {},
   "outputs": [],
   "source": []
  }
 ],
 "metadata": {
  "kernelspec": {
   "display_name": "Python 3 (ipykernel)",
   "language": "python",
   "name": "python3"
  },
  "language_info": {
   "codemirror_mode": {
    "name": "ipython",
    "version": 3
   },
   "file_extension": ".py",
   "mimetype": "text/x-python",
   "name": "python",
   "nbconvert_exporter": "python",
   "pygments_lexer": "ipython3",
   "version": "3.9.13"
  }
 },
 "nbformat": 4,
 "nbformat_minor": 5
}
