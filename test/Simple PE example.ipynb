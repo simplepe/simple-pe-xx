{
 "cells": [
  {
   "cell_type": "code",
   "execution_count": 1,
   "id": "b1d03c10",
   "metadata": {},
   "outputs": [],
   "source": [
    "%matplotlib inline\n",
    "import matplotlib.pyplot as plt\n",
    "import numpy as np\n",
    "import copy\n",
    "\n",
    "from pycbc import conversions, psd\n",
    "from pycbc.filter import match\n",
    "\n",
    "from simple_pe.param_est import metric\n",
    "from pesummary.utils.samples_dict import SamplesDict\n",
    "from pesummary.gw.conversions import convert"
   ]
  },
  {
   "cell_type": "code",
   "execution_count": 2,
   "id": "99c729ca",
   "metadata": {},
   "outputs": [],
   "source": [
    "import logging\n",
    "_logger = logging.getLogger('PESummary')\n",
    "_logger.setLevel(logging.CRITICAL + 10)"
   ]
  },
  {
   "cell_type": "code",
   "execution_count": 3,
   "id": "fa580d8d",
   "metadata": {},
   "outputs": [],
   "source": [
    "def generate_ellipse(g, projected=False, r = 1, npts = 100):\n",
    "    \n",
    "    if projected:\n",
    "        dx_dirs = g.projected_directions\n",
    "        n_evec = g.projected_evecs()\n",
    "    else:\n",
    "        dx_dirs = g.dx_directions\n",
    "        n_evec = g.normalized_evecs()\n",
    "        \n",
    "    if len(dx_dirs) != 2:\n",
    "        print(\"We're expecting to plot a 2-d ellipse\")\n",
    "        return -1\n",
    "    \n",
    "    # generate points on a circle\n",
    "    phi = np.linspace(0, 2*np.pi, npts)\n",
    "    xx = r * np.cos(phi)\n",
    "    yy = r * np.sin(phi)\n",
    "    pts = np.array([xx, yy])\n",
    "    \n",
    "    # project onto eigendirections\n",
    "    dx = SamplesDict(dx_dirs, np.matmul(n_evec.samples,pts))\n",
    "    \n",
    "    # scale to be physical\n",
    "    alphas = np.zeros(npts)\n",
    "    for i in range(npts):\n",
    "        alphas[i] = metric.check_physical(g.x, dx[i:i+1],1.)\n",
    "\n",
    "    ellipseDict = SamplesDict(dx_dirs, \n",
    "                              np.array([g.x[dx] for dx in dx_dirs]).reshape([2,1]) + dx.samples * alphas)\n",
    "    \n",
    "    return ellipseDict"
   ]
  },
  {
   "cell_type": "code",
   "execution_count": 4,
   "id": "9afdd671",
   "metadata": {},
   "outputs": [],
   "source": [
    "def match_grid(g, projected=False, lim = 1.1, npts = 11):\n",
    "    \n",
    "    if projected:\n",
    "        dx_dirs = g.projected_directions + [x for x in g_3d.dx_directions if x not in g_3d.projected_directions]\n",
    "        n_evec = g.projected_evecs()\n",
    "    else:\n",
    "        dx_dirs = g.dx_directions\n",
    "        n_evec = g.normalized_evecs()\n",
    "    \n",
    "    grid = np.mgrid[-lim:lim:npts*1j,-lim:lim:npts*1j]\n",
    "    dx_data = np.tensordot(n_evec.samples, grid, axes=(1,0))\n",
    "    \n",
    "    if projected:\n",
    "        dx_extra = np.tensordot(g.projection, dx_data, axes=(1,0))\n",
    "        dx_data = np.append(dx_data, dx_extra, 0)\n",
    "\n",
    "    dx = SamplesDict(dx_dirs, dx_data.reshape(len(dx_dirs), npts**2))\n",
    "    \n",
    "    nsamp = dx.number_of_samples\n",
    "    m = np.zeros(nsamp)\n",
    "\n",
    "    h0 = metric.make_waveform(g.x, g.x, 0., 1., g.psd.delta_f, g.f_low, len(g.psd), g.approximant)\n",
    "\n",
    "    for i in range(nsamp):\n",
    "        if metric.check_physical(g.x, dx[i:i+1],1.) < 1:\n",
    "            m[i] = 0\n",
    "        else:\n",
    "            h1 = metric.make_waveform(params, dx[i:i+1], 1., 1., g.psd.delta_f, g.f_low, len(g.psd), g.approximant)\n",
    "            m[i] = match(h0, h1, g.psd, g.f_low)[0]\n",
    "            \n",
    "    matches = SamplesDict(dx_dirs + ['match'], \n",
    "                          np.append(dx.samples  + np.array([g.x[dx] for dx in dx_dirs]).reshape([len(dx_dirs),1]), \n",
    "                                    m.reshape([1,npts**2]), 0).reshape(len(dx_dirs)+1, npts, npts))\n",
    "    \n",
    "    return matches"
   ]
  },
  {
   "cell_type": "markdown",
   "id": "d069b654",
   "metadata": {},
   "source": [
    "## GW190412-like signal"
   ]
  },
  {
   "cell_type": "markdown",
   "id": "a94c69d8",
   "metadata": {},
   "source": [
    "## Read in PSDs, etc"
   ]
  },
  {
   "cell_type": "code",
   "execution_count": 5,
   "id": "887238a6",
   "metadata": {},
   "outputs": [],
   "source": [
    "ifos = ['H1', 'L1', 'V1']\n",
    "\n",
    "psds = {'H1': 'aLIGOMidHighSensitivityP1200087',\n",
    "        'L1': 'aLIGOMidHighSensitivityP1200087',\n",
    "        'V1': 'AdVMidHighSensitivityP1200087',\n",
    "        'f_low': 20.,\n",
    "        'f_high': 8192,\n",
    "        'length': 32\n",
    "        }\n",
    "\n",
    "psds['delta_f'] = 1. / psds['length']\n",
    "\n",
    "approximant = 'IMRPhenomXPHM'"
   ]
  },
  {
   "cell_type": "code",
   "execution_count": 6,
   "id": "446df660",
   "metadata": {},
   "outputs": [
    {
     "name": "stderr",
     "output_type": "stream",
     "text": [
      "/home/spxsf2/miniconda3/envs/igwn-py38/lib/python3.8/site-packages/pycbc/types/array.py:375: RuntimeWarning: divide by zero encountered in true_divide\n",
      "  return self._data.__rtruediv__(other)\n"
     ]
    }
   ],
   "source": [
    "pycbc_psd = {}\n",
    "for ifo in ifos:\n",
    "    pycbc_psd[ifo] = psd.analytical.from_string(psds[ifo], psds['length'] * psds['f_high'] + 1, psds['delta_f'],\n",
    "                                                psds['f_low'])\n",
    "\n",
    "pycbc_psd['harm'] = 3. / sum([1. / pycbc_psd[ifo] for ifo in ifos])"
   ]
  },
  {
   "cell_type": "markdown",
   "id": "7c2dd7c4",
   "metadata": {},
   "source": [
    "## Parameters"
   ]
  },
  {
   "cell_type": "code",
   "execution_count": 7,
   "id": "a895b600",
   "metadata": {},
   "outputs": [],
   "source": [
    "m1 = 30.\n",
    "m2 = 10.\n",
    "mc = conversions.mchirp_from_mass1_mass2(m1, m2)\n",
    "eta = conversions.eta_from_mass1_mass2(m1, m2)\n",
    "s1z = 0.3\n",
    "s2z = 0.\n",
    "chi_eff = conversions.chi_eff(m1, m2, s1z, s2z)\n",
    "snr = 18"
   ]
  },
  {
   "cell_type": "code",
   "execution_count": 8,
   "id": "9b7e5ddc",
   "metadata": {},
   "outputs": [],
   "source": [
    "params = {'mass_1': m1,\n",
    "          'mass_2': m2,\n",
    "          'spin_1z': s1z,\n",
    "          'spin_2z': s2z\n",
    "        }"
   ]
  },
  {
   "cell_type": "markdown",
   "id": "6b43d7af",
   "metadata": {},
   "source": [
    "## Spin directions"
   ]
  },
  {
   "cell_type": "code",
   "execution_count": 9,
   "id": "dbcc1b75",
   "metadata": {},
   "outputs": [],
   "source": [
    "dx_directions = ['spin_1z', 'spin_2z']"
   ]
  },
  {
   "cell_type": "code",
   "execution_count": 10,
   "id": "ec6cb9c7",
   "metadata": {},
   "outputs": [],
   "source": [
    "g_spin = metric.find_metric_and_eigendirections(params, dx_directions, snr, psds['f_low'], pycbc_psd['harm'], \n",
    "                                     approximant, tolerance=0.01, max_iter=20)"
   ]
  },
  {
   "cell_type": "code",
   "execution_count": 11,
   "id": "666aa324",
   "metadata": {},
   "outputs": [
    {
     "name": "stdout",
     "output_type": "stream",
     "text": [
      "['spin_1z', 'spin_2z']\n",
      "[[39.23659226  9.02618809]\n",
      " [ 9.02618809  2.07872189]]\n",
      "[[ 0.97454319 -0.22419985]\n",
      " [ 0.22419985  0.97454319]]\n",
      "[4.13131392e+01 2.17220602e-03]\n"
     ]
    }
   ],
   "source": [
    "print(g_spin.dx_directions)\n",
    "print(g_spin.metric)\n",
    "print(g_spin.evec)\n",
    "print(g_spin.evals)"
   ]
  },
  {
   "cell_type": "code",
   "execution_count": 12,
   "id": "5b9f57ac",
   "metadata": {},
   "outputs": [],
   "source": [
    "gg = SamplesDict(g_spin.x)"
   ]
  },
  {
   "cell_type": "code",
   "execution_count": 13,
   "id": "b2550fc2",
   "metadata": {},
   "outputs": [],
   "source": [
    "spin_ellipse = generate_ellipse(g_spin)"
   ]
  },
  {
   "cell_type": "code",
   "execution_count": 14,
   "id": "bf4189b9",
   "metadata": {},
   "outputs": [
    {
     "ename": "KeyboardInterrupt",
     "evalue": "",
     "output_type": "error",
     "traceback": [
      "\u001b[0;31m---------------------------------------------------------------------------\u001b[0m",
      "\u001b[0;31mKeyboardInterrupt\u001b[0m                         Traceback (most recent call last)",
      "Input \u001b[0;32mIn [14]\u001b[0m, in \u001b[0;36m<module>\u001b[0;34m\u001b[0m\n\u001b[0;32m----> 1\u001b[0m spin_matches \u001b[38;5;241m=\u001b[39m \u001b[43mmatch_grid\u001b[49m\u001b[43m(\u001b[49m\u001b[43mg_spin\u001b[49m\u001b[43m,\u001b[49m\u001b[43m \u001b[49m\u001b[43mlim\u001b[49m\u001b[43m \u001b[49m\u001b[38;5;241;43m=\u001b[39;49m\u001b[43m \u001b[49m\u001b[38;5;241;43m1.3\u001b[39;49m\u001b[43m,\u001b[49m\u001b[43m \u001b[49m\u001b[43mnpts\u001b[49m\u001b[38;5;241;43m=\u001b[39;49m\u001b[38;5;241;43m21\u001b[39;49m\u001b[43m)\u001b[49m\n",
      "Input \u001b[0;32mIn [4]\u001b[0m, in \u001b[0;36mmatch_grid\u001b[0;34m(g, projected, lim, npts)\u001b[0m\n\u001b[1;32m     26\u001b[0m         m[i] \u001b[38;5;241m=\u001b[39m \u001b[38;5;241m0\u001b[39m\n\u001b[1;32m     27\u001b[0m     \u001b[38;5;28;01melse\u001b[39;00m:\n\u001b[0;32m---> 28\u001b[0m         h1 \u001b[38;5;241m=\u001b[39m \u001b[43mmetric\u001b[49m\u001b[38;5;241;43m.\u001b[39;49m\u001b[43mmake_waveform\u001b[49m\u001b[43m(\u001b[49m\u001b[43mparams\u001b[49m\u001b[43m,\u001b[49m\u001b[43m \u001b[49m\u001b[43mdx\u001b[49m\u001b[43m[\u001b[49m\u001b[43mi\u001b[49m\u001b[43m:\u001b[49m\u001b[43mi\u001b[49m\u001b[38;5;241;43m+\u001b[39;49m\u001b[38;5;241;43m1\u001b[39;49m\u001b[43m]\u001b[49m\u001b[43m,\u001b[49m\u001b[43m \u001b[49m\u001b[38;5;241;43m1.\u001b[39;49m\u001b[43m,\u001b[49m\u001b[43m \u001b[49m\u001b[38;5;241;43m1.\u001b[39;49m\u001b[43m,\u001b[49m\u001b[43m \u001b[49m\u001b[43mg\u001b[49m\u001b[38;5;241;43m.\u001b[39;49m\u001b[43mpsd\u001b[49m\u001b[38;5;241;43m.\u001b[39;49m\u001b[43mdelta_f\u001b[49m\u001b[43m,\u001b[49m\u001b[43m \u001b[49m\u001b[43mg\u001b[49m\u001b[38;5;241;43m.\u001b[39;49m\u001b[43mf_low\u001b[49m\u001b[43m,\u001b[49m\u001b[43m \u001b[49m\u001b[38;5;28;43mlen\u001b[39;49m\u001b[43m(\u001b[49m\u001b[43mg\u001b[49m\u001b[38;5;241;43m.\u001b[39;49m\u001b[43mpsd\u001b[49m\u001b[43m)\u001b[49m\u001b[43m,\u001b[49m\u001b[43m \u001b[49m\u001b[43mg\u001b[49m\u001b[38;5;241;43m.\u001b[39;49m\u001b[43mapproximant\u001b[49m\u001b[43m)\u001b[49m\n\u001b[1;32m     29\u001b[0m         m[i] \u001b[38;5;241m=\u001b[39m match(h0, h1, g\u001b[38;5;241m.\u001b[39mpsd, g\u001b[38;5;241m.\u001b[39mf_low)[\u001b[38;5;241m0\u001b[39m]\n\u001b[1;32m     31\u001b[0m matches \u001b[38;5;241m=\u001b[39m SamplesDict(dx_dirs \u001b[38;5;241m+\u001b[39m [\u001b[38;5;124m'\u001b[39m\u001b[38;5;124mmatch\u001b[39m\u001b[38;5;124m'\u001b[39m], \n\u001b[1;32m     32\u001b[0m                       np\u001b[38;5;241m.\u001b[39mappend(dx\u001b[38;5;241m.\u001b[39msamples  \u001b[38;5;241m+\u001b[39m np\u001b[38;5;241m.\u001b[39marray([g\u001b[38;5;241m.\u001b[39mx[dx] \u001b[38;5;28;01mfor\u001b[39;00m dx \u001b[38;5;129;01min\u001b[39;00m dx_dirs])\u001b[38;5;241m.\u001b[39mreshape([\u001b[38;5;28mlen\u001b[39m(dx_dirs),\u001b[38;5;241m1\u001b[39m]), \n\u001b[1;32m     33\u001b[0m                                 m\u001b[38;5;241m.\u001b[39mreshape([\u001b[38;5;241m1\u001b[39m,npts\u001b[38;5;241m*\u001b[39m\u001b[38;5;241m*\u001b[39m\u001b[38;5;241m2\u001b[39m]), \u001b[38;5;241m0\u001b[39m)\u001b[38;5;241m.\u001b[39mreshape(\u001b[38;5;28mlen\u001b[39m(dx_dirs)\u001b[38;5;241m+\u001b[39m\u001b[38;5;241m1\u001b[39m, npts, npts))\n",
      "File \u001b[0;32m/mnt/c/Users/spxsf2/Code/simple-pe/simple_pe/param_est/metric.py:221\u001b[0m, in \u001b[0;36mmake_waveform\u001b[0;34m(x, dx, scaling, dist, df, f_low, flen, approximant)\u001b[0m\n\u001b[1;32m    217\u001b[0m     tmp_x[\u001b[38;5;124m'\u001b[39m\u001b[38;5;124mspin_2z\u001b[39m\u001b[38;5;124m'\u001b[39m] \u001b[38;5;241m=\u001b[39m \u001b[38;5;28mfloat\u001b[39m(tmp_x[\u001b[38;5;124m'\u001b[39m\u001b[38;5;124mchi_eff\u001b[39m\u001b[38;5;124m'\u001b[39m])\n\u001b[1;32m    219\u001b[0m data \u001b[38;5;241m=\u001b[39m convert(tmp_x, disable_remnant\u001b[38;5;241m=\u001b[39m\u001b[38;5;28;01mTrue\u001b[39;00m)\n\u001b[0;32m--> 221\u001b[0m h_plus, h_cross \u001b[38;5;241m=\u001b[39m \u001b[43mget_fd_waveform\u001b[49m\u001b[43m(\u001b[49m\u001b[43mmass1\u001b[49m\u001b[38;5;241;43m=\u001b[39;49m\u001b[43mdata\u001b[49m\u001b[43m[\u001b[49m\u001b[38;5;124;43m'\u001b[39;49m\u001b[38;5;124;43mmass_1\u001b[39;49m\u001b[38;5;124;43m'\u001b[39;49m\u001b[43m]\u001b[49m\u001b[43m,\u001b[49m\u001b[43m \u001b[49m\u001b[43mmass2\u001b[49m\u001b[38;5;241;43m=\u001b[39;49m\u001b[43mdata\u001b[49m\u001b[43m[\u001b[49m\u001b[38;5;124;43m'\u001b[39;49m\u001b[38;5;124;43mmass_2\u001b[39;49m\u001b[38;5;124;43m'\u001b[39;49m\u001b[43m]\u001b[49m\u001b[43m,\u001b[49m\n\u001b[1;32m    222\u001b[0m \u001b[43m                                  \u001b[49m\u001b[43mspin1z\u001b[49m\u001b[38;5;241;43m=\u001b[39;49m\u001b[43mdata\u001b[49m\u001b[43m[\u001b[49m\u001b[38;5;124;43m'\u001b[39;49m\u001b[38;5;124;43mspin_1z\u001b[39;49m\u001b[38;5;124;43m'\u001b[39;49m\u001b[43m]\u001b[49m\u001b[43m,\u001b[49m\n\u001b[1;32m    223\u001b[0m \u001b[43m                                  \u001b[49m\u001b[43mspin2z\u001b[49m\u001b[38;5;241;43m=\u001b[39;49m\u001b[43mdata\u001b[49m\u001b[43m[\u001b[49m\u001b[38;5;124;43m'\u001b[39;49m\u001b[38;5;124;43mspin_2z\u001b[39;49m\u001b[38;5;124;43m'\u001b[39;49m\u001b[43m]\u001b[49m\u001b[43m,\u001b[49m\n\u001b[1;32m    224\u001b[0m \u001b[43m                                  \u001b[49m\u001b[43mdelta_f\u001b[49m\u001b[38;5;241;43m=\u001b[39;49m\u001b[43mdf\u001b[49m\u001b[43m,\u001b[49m\u001b[43m \u001b[49m\u001b[43mdistance\u001b[49m\u001b[38;5;241;43m=\u001b[39;49m\u001b[43mdist\u001b[49m\u001b[43m,\u001b[49m\u001b[43m \u001b[49m\u001b[43mf_lower\u001b[49m\u001b[38;5;241;43m=\u001b[39;49m\u001b[43mf_low\u001b[49m\u001b[43m,\u001b[49m\n\u001b[1;32m    225\u001b[0m \u001b[43m                                  \u001b[49m\u001b[43mapproximant\u001b[49m\u001b[38;5;241;43m=\u001b[39;49m\u001b[43mapproximant\u001b[49m\u001b[43m,\u001b[49m\n\u001b[1;32m    226\u001b[0m \u001b[43m                                  \u001b[49m\u001b[43mmode_array\u001b[49m\u001b[38;5;241;43m=\u001b[39;49m\u001b[43mwaveform_modes\u001b[49m\u001b[38;5;241;43m.\u001b[39;49m\u001b[43mmode_array\u001b[49m\u001b[43m(\u001b[49m\u001b[38;5;124;43m'\u001b[39;49m\u001b[38;5;124;43m22\u001b[39;49m\u001b[38;5;124;43m'\u001b[39;49m\u001b[43m,\u001b[49m\u001b[43m \u001b[49m\u001b[43mapproximant\u001b[49m\u001b[43m)\u001b[49m\u001b[43m)\u001b[49m\n\u001b[1;32m    227\u001b[0m h_plus\u001b[38;5;241m.\u001b[39mresize(flen)\n\u001b[1;32m    228\u001b[0m \u001b[38;5;28;01mreturn\u001b[39;00m h_plus\n",
      "File \u001b[0;32m~/miniconda3/envs/igwn-py38/lib/python3.8/site-packages/pycbc/waveform/waveform.py:554\u001b[0m, in \u001b[0;36mget_fd_waveform\u001b[0;34m(template, **kwargs)\u001b[0m\n\u001b[1;32m    552\u001b[0m     required \u001b[38;5;241m=\u001b[39m parameters\u001b[38;5;241m.\u001b[39mfd_required\n\u001b[1;32m    553\u001b[0m check_args(input_params, required)\n\u001b[0;32m--> 554\u001b[0m \u001b[38;5;28;01mreturn\u001b[39;00m \u001b[43mwav_gen\u001b[49m\u001b[43m(\u001b[49m\u001b[38;5;241;43m*\u001b[39;49m\u001b[38;5;241;43m*\u001b[39;49m\u001b[43minput_params\u001b[49m\u001b[43m)\u001b[49m\n",
      "File \u001b[0;32m~/miniconda3/envs/igwn-py38/lib/python3.8/site-packages/pycbc/waveform/waveform.py:242\u001b[0m, in \u001b[0;36m_lalsim_fd_waveform\u001b[0;34m(**p)\u001b[0m\n\u001b[1;32m    240\u001b[0m \u001b[38;5;28;01mdef\u001b[39;00m \u001b[38;5;21m_lalsim_fd_waveform\u001b[39m(\u001b[38;5;241m*\u001b[39m\u001b[38;5;241m*\u001b[39mp):\n\u001b[1;32m    241\u001b[0m     lal_pars \u001b[38;5;241m=\u001b[39m _check_lal_pars(p)\n\u001b[0;32m--> 242\u001b[0m     hp1, hc1 \u001b[38;5;241m=\u001b[39m \u001b[43mlalsimulation\u001b[49m\u001b[38;5;241;43m.\u001b[39;49m\u001b[43mSimInspiralChooseFDWaveform\u001b[49m\u001b[43m(\u001b[49m\n\u001b[1;32m    243\u001b[0m \u001b[43m               \u001b[49m\u001b[38;5;28;43mfloat\u001b[39;49m\u001b[43m(\u001b[49m\u001b[43mpnutils\u001b[49m\u001b[38;5;241;43m.\u001b[39;49m\u001b[43msolar_mass_to_kg\u001b[49m\u001b[43m(\u001b[49m\u001b[43mp\u001b[49m\u001b[43m[\u001b[49m\u001b[38;5;124;43m'\u001b[39;49m\u001b[38;5;124;43mmass1\u001b[39;49m\u001b[38;5;124;43m'\u001b[39;49m\u001b[43m]\u001b[49m\u001b[43m)\u001b[49m\u001b[43m)\u001b[49m\u001b[43m,\u001b[49m\n\u001b[1;32m    244\u001b[0m \u001b[43m               \u001b[49m\u001b[38;5;28;43mfloat\u001b[39;49m\u001b[43m(\u001b[49m\u001b[43mpnutils\u001b[49m\u001b[38;5;241;43m.\u001b[39;49m\u001b[43msolar_mass_to_kg\u001b[49m\u001b[43m(\u001b[49m\u001b[43mp\u001b[49m\u001b[43m[\u001b[49m\u001b[38;5;124;43m'\u001b[39;49m\u001b[38;5;124;43mmass2\u001b[39;49m\u001b[38;5;124;43m'\u001b[39;49m\u001b[43m]\u001b[49m\u001b[43m)\u001b[49m\u001b[43m)\u001b[49m\u001b[43m,\u001b[49m\n\u001b[1;32m    245\u001b[0m \u001b[43m               \u001b[49m\u001b[38;5;28;43mfloat\u001b[39;49m\u001b[43m(\u001b[49m\u001b[43mp\u001b[49m\u001b[43m[\u001b[49m\u001b[38;5;124;43m'\u001b[39;49m\u001b[38;5;124;43mspin1x\u001b[39;49m\u001b[38;5;124;43m'\u001b[39;49m\u001b[43m]\u001b[49m\u001b[43m)\u001b[49m\u001b[43m,\u001b[49m\u001b[43m \u001b[49m\u001b[38;5;28;43mfloat\u001b[39;49m\u001b[43m(\u001b[49m\u001b[43mp\u001b[49m\u001b[43m[\u001b[49m\u001b[38;5;124;43m'\u001b[39;49m\u001b[38;5;124;43mspin1y\u001b[39;49m\u001b[38;5;124;43m'\u001b[39;49m\u001b[43m]\u001b[49m\u001b[43m)\u001b[49m\u001b[43m,\u001b[49m\u001b[43m \u001b[49m\u001b[38;5;28;43mfloat\u001b[39;49m\u001b[43m(\u001b[49m\u001b[43mp\u001b[49m\u001b[43m[\u001b[49m\u001b[38;5;124;43m'\u001b[39;49m\u001b[38;5;124;43mspin1z\u001b[39;49m\u001b[38;5;124;43m'\u001b[39;49m\u001b[43m]\u001b[49m\u001b[43m)\u001b[49m\u001b[43m,\u001b[49m\n\u001b[1;32m    246\u001b[0m \u001b[43m               \u001b[49m\u001b[38;5;28;43mfloat\u001b[39;49m\u001b[43m(\u001b[49m\u001b[43mp\u001b[49m\u001b[43m[\u001b[49m\u001b[38;5;124;43m'\u001b[39;49m\u001b[38;5;124;43mspin2x\u001b[39;49m\u001b[38;5;124;43m'\u001b[39;49m\u001b[43m]\u001b[49m\u001b[43m)\u001b[49m\u001b[43m,\u001b[49m\u001b[43m \u001b[49m\u001b[38;5;28;43mfloat\u001b[39;49m\u001b[43m(\u001b[49m\u001b[43mp\u001b[49m\u001b[43m[\u001b[49m\u001b[38;5;124;43m'\u001b[39;49m\u001b[38;5;124;43mspin2y\u001b[39;49m\u001b[38;5;124;43m'\u001b[39;49m\u001b[43m]\u001b[49m\u001b[43m)\u001b[49m\u001b[43m,\u001b[49m\u001b[43m \u001b[49m\u001b[38;5;28;43mfloat\u001b[39;49m\u001b[43m(\u001b[49m\u001b[43mp\u001b[49m\u001b[43m[\u001b[49m\u001b[38;5;124;43m'\u001b[39;49m\u001b[38;5;124;43mspin2z\u001b[39;49m\u001b[38;5;124;43m'\u001b[39;49m\u001b[43m]\u001b[49m\u001b[43m)\u001b[49m\u001b[43m,\u001b[49m\n\u001b[1;32m    247\u001b[0m \u001b[43m               \u001b[49m\u001b[43mpnutils\u001b[49m\u001b[38;5;241;43m.\u001b[39;49m\u001b[43mmegaparsecs_to_meters\u001b[49m\u001b[43m(\u001b[49m\u001b[38;5;28;43mfloat\u001b[39;49m\u001b[43m(\u001b[49m\u001b[43mp\u001b[49m\u001b[43m[\u001b[49m\u001b[38;5;124;43m'\u001b[39;49m\u001b[38;5;124;43mdistance\u001b[39;49m\u001b[38;5;124;43m'\u001b[39;49m\u001b[43m]\u001b[49m\u001b[43m)\u001b[49m\u001b[43m)\u001b[49m\u001b[43m,\u001b[49m\n\u001b[1;32m    248\u001b[0m \u001b[43m               \u001b[49m\u001b[38;5;28;43mfloat\u001b[39;49m\u001b[43m(\u001b[49m\u001b[43mp\u001b[49m\u001b[43m[\u001b[49m\u001b[38;5;124;43m'\u001b[39;49m\u001b[38;5;124;43minclination\u001b[39;49m\u001b[38;5;124;43m'\u001b[39;49m\u001b[43m]\u001b[49m\u001b[43m)\u001b[49m\u001b[43m,\u001b[49m\u001b[43m \u001b[49m\u001b[38;5;28;43mfloat\u001b[39;49m\u001b[43m(\u001b[49m\u001b[43mp\u001b[49m\u001b[43m[\u001b[49m\u001b[38;5;124;43m'\u001b[39;49m\u001b[38;5;124;43mcoa_phase\u001b[39;49m\u001b[38;5;124;43m'\u001b[39;49m\u001b[43m]\u001b[49m\u001b[43m)\u001b[49m\u001b[43m,\u001b[49m\n\u001b[1;32m    249\u001b[0m \u001b[43m               \u001b[49m\u001b[38;5;28;43mfloat\u001b[39;49m\u001b[43m(\u001b[49m\u001b[43mp\u001b[49m\u001b[43m[\u001b[49m\u001b[38;5;124;43m'\u001b[39;49m\u001b[38;5;124;43mlong_asc_nodes\u001b[39;49m\u001b[38;5;124;43m'\u001b[39;49m\u001b[43m]\u001b[49m\u001b[43m)\u001b[49m\u001b[43m,\u001b[49m\u001b[43m \u001b[49m\u001b[38;5;28;43mfloat\u001b[39;49m\u001b[43m(\u001b[49m\u001b[43mp\u001b[49m\u001b[43m[\u001b[49m\u001b[38;5;124;43m'\u001b[39;49m\u001b[38;5;124;43meccentricity\u001b[39;49m\u001b[38;5;124;43m'\u001b[39;49m\u001b[43m]\u001b[49m\u001b[43m)\u001b[49m\u001b[43m,\u001b[49m\u001b[43m \u001b[49m\u001b[38;5;28;43mfloat\u001b[39;49m\u001b[43m(\u001b[49m\u001b[43mp\u001b[49m\u001b[43m[\u001b[49m\u001b[38;5;124;43m'\u001b[39;49m\u001b[38;5;124;43mmean_per_ano\u001b[39;49m\u001b[38;5;124;43m'\u001b[39;49m\u001b[43m]\u001b[49m\u001b[43m)\u001b[49m\u001b[43m,\u001b[49m\n\u001b[1;32m    250\u001b[0m \u001b[43m               \u001b[49m\u001b[43mp\u001b[49m\u001b[43m[\u001b[49m\u001b[38;5;124;43m'\u001b[39;49m\u001b[38;5;124;43mdelta_f\u001b[39;49m\u001b[38;5;124;43m'\u001b[39;49m\u001b[43m]\u001b[49m\u001b[43m,\u001b[49m\u001b[43m \u001b[49m\u001b[38;5;28;43mfloat\u001b[39;49m\u001b[43m(\u001b[49m\u001b[43mp\u001b[49m\u001b[43m[\u001b[49m\u001b[38;5;124;43m'\u001b[39;49m\u001b[38;5;124;43mf_lower\u001b[39;49m\u001b[38;5;124;43m'\u001b[39;49m\u001b[43m]\u001b[49m\u001b[43m)\u001b[49m\u001b[43m,\u001b[49m\u001b[43m \u001b[49m\u001b[38;5;28;43mfloat\u001b[39;49m\u001b[43m(\u001b[49m\u001b[43mp\u001b[49m\u001b[43m[\u001b[49m\u001b[38;5;124;43m'\u001b[39;49m\u001b[38;5;124;43mf_final\u001b[39;49m\u001b[38;5;124;43m'\u001b[39;49m\u001b[43m]\u001b[49m\u001b[43m)\u001b[49m\u001b[43m,\u001b[49m\u001b[43m \u001b[49m\u001b[38;5;28;43mfloat\u001b[39;49m\u001b[43m(\u001b[49m\u001b[43mp\u001b[49m\u001b[43m[\u001b[49m\u001b[38;5;124;43m'\u001b[39;49m\u001b[38;5;124;43mf_ref\u001b[39;49m\u001b[38;5;124;43m'\u001b[39;49m\u001b[43m]\u001b[49m\u001b[43m)\u001b[49m\u001b[43m,\u001b[49m\n\u001b[1;32m    251\u001b[0m \u001b[43m               \u001b[49m\u001b[43mlal_pars\u001b[49m\u001b[43m,\u001b[49m\n\u001b[1;32m    252\u001b[0m \u001b[43m               \u001b[49m\u001b[43m_lalsim_enum\u001b[49m\u001b[43m[\u001b[49m\u001b[43mp\u001b[49m\u001b[43m[\u001b[49m\u001b[38;5;124;43m'\u001b[39;49m\u001b[38;5;124;43mapproximant\u001b[39;49m\u001b[38;5;124;43m'\u001b[39;49m\u001b[43m]\u001b[49m\u001b[43m]\u001b[49m\u001b[43m)\u001b[49m\n\u001b[1;32m    254\u001b[0m     hp \u001b[38;5;241m=\u001b[39m FrequencySeries(hp1\u001b[38;5;241m.\u001b[39mdata\u001b[38;5;241m.\u001b[39mdata[:], delta_f\u001b[38;5;241m=\u001b[39mhp1\u001b[38;5;241m.\u001b[39mdeltaF,\n\u001b[1;32m    255\u001b[0m                             epoch\u001b[38;5;241m=\u001b[39mhp1\u001b[38;5;241m.\u001b[39mepoch)\n\u001b[1;32m    257\u001b[0m     hc \u001b[38;5;241m=\u001b[39m FrequencySeries(hc1\u001b[38;5;241m.\u001b[39mdata\u001b[38;5;241m.\u001b[39mdata[:], delta_f\u001b[38;5;241m=\u001b[39mhc1\u001b[38;5;241m.\u001b[39mdeltaF,\n\u001b[1;32m    258\u001b[0m                             epoch\u001b[38;5;241m=\u001b[39mhc1\u001b[38;5;241m.\u001b[39mepoch)\n",
      "\u001b[0;31mKeyboardInterrupt\u001b[0m: "
     ]
    }
   ],
   "source": [
    "spin_matches = match_grid(g_spin, lim = 1.3, npts=21)"
   ]
  },
  {
   "cell_type": "code",
   "execution_count": null,
   "id": "32d7d07d",
   "metadata": {},
   "outputs": [],
   "source": [
    "spin_prob = np.exp(-snr**2/2 * (1 - spin_matches['match']))"
   ]
  },
  {
   "cell_type": "code",
   "execution_count": null,
   "id": "e08faee5",
   "metadata": {},
   "outputs": [],
   "source": [
    "plt.plot(spin_ellipse.samples[0], spin_ellipse.samples[1], 'k')\n",
    "plt.xlabel(spin_ellipse.keys()[0])\n",
    "plt.ylabel(spin_ellipse.keys()[1])\n",
    "plt.grid()"
   ]
  },
  {
   "cell_type": "code",
   "execution_count": null,
   "id": "0d238093",
   "metadata": {},
   "outputs": [],
   "source": [
    "chi1, chi2 = np.mgrid[0:0.6:21j, -1:1:21j]\n",
    "q = m2/m1\n",
    "chieff = (chi1 + q * chi2)/(1+q)"
   ]
  },
  {
   "cell_type": "code",
   "execution_count": null,
   "id": "2986af9d",
   "metadata": {},
   "outputs": [],
   "source": [
    "plt.figure(figsize=(12, 9))\n",
    "plt.contourf(spin_matches.samples[0], spin_matches.samples[1], spin_prob, levels=np.linspace(0, 1, 21))\n",
    "plt.xlabel(spin_matches.keys()[0])\n",
    "plt.ylabel(spin_matches.keys()[1])\n",
    "plt.colorbar(label='pdf')\n",
    "plt.plot(spin_ellipse.samples[0], spin_ellipse.samples[1], 'r')\n",
    "chi_cont = plt.contour(chi1, chi2, chieff, colors='k', levels=np.arange(-1,1,0.1))\n",
    "plt.clabel(chi_cont, fontsize=10)\n",
    "plt.xlim([0.05, 0.55])\n",
    "plt.ylim([-1,1])\n",
    "plt.grid()\n",
    "plt.savefig('spin_measurement.png')"
   ]
  },
  {
   "cell_type": "markdown",
   "id": "8a4972b2",
   "metadata": {},
   "source": [
    "## Masses"
   ]
  },
  {
   "cell_type": "code",
   "execution_count": null,
   "id": "ecd59f24",
   "metadata": {},
   "outputs": [],
   "source": [
    "dx_directions = ['mass_1', 'mass_2']"
   ]
  },
  {
   "cell_type": "code",
   "execution_count": null,
   "id": "2949ba83",
   "metadata": {},
   "outputs": [],
   "source": [
    "g_mass = metric.find_metric_and_eigendirections(params, dx_directions, snr, psds['f_low'], pycbc_psd['harm'], \n",
    "                                     approximant, tolerance=0.01, max_iter=20)"
   ]
  },
  {
   "cell_type": "code",
   "execution_count": null,
   "id": "4f7b8e4f",
   "metadata": {},
   "outputs": [],
   "source": [
    "mass_ellipse = generate_ellipse(g_mass)"
   ]
  },
  {
   "cell_type": "code",
   "execution_count": null,
   "id": "b5e06d43",
   "metadata": {},
   "outputs": [],
   "source": [
    "mass_matches = match_grid(g_mass, lim = 1.3, npts=21)"
   ]
  },
  {
   "cell_type": "code",
   "execution_count": null,
   "id": "a6d55203",
   "metadata": {},
   "outputs": [],
   "source": [
    "mass_prob = np.exp(-snr**2/2 * (1 - mass_matches['match']))"
   ]
  },
  {
   "cell_type": "code",
   "execution_count": null,
   "id": "4b472a11",
   "metadata": {},
   "outputs": [],
   "source": [
    "plt.plot(mass_ellipse.samples[0], mass_ellipse.samples[1], 'k')\n",
    "plt.xlabel(mass_ellipse.keys()[0])\n",
    "plt.ylabel(mass_ellipse.keys()[1])\n",
    "plt.grid()"
   ]
  },
  {
   "cell_type": "code",
   "execution_count": null,
   "id": "c5a2070c",
   "metadata": {},
   "outputs": [],
   "source": [
    "plt.figure(figsize=(12, 9))\n",
    "plt.contourf(mass_matches.samples[0], mass_matches.samples[1], mass_prob, levels=np.linspace(0, 1, 21))\n",
    "plt.xlabel(mass_matches.keys()[0])\n",
    "plt.ylabel(mass_matches.keys()[1])\n",
    "plt.colorbar(label='pdf')\n",
    "plt.plot(mass_ellipse.samples[0], mass_ellipse.samples[1], 'r')\n",
    "#chi_cont = plt.contour(chi1, chi2, chieff, colors='k', levels=np.arange(-1,1,0.1))\n",
    "#plt.xlim([0.05, 0.55])\n",
    "#plt.ylim([-1,1])\n",
    "plt.grid()"
   ]
  },
  {
   "cell_type": "markdown",
   "id": "d7bd1810",
   "metadata": {},
   "source": [
    "### Repeat with chirp mass and eta"
   ]
  },
  {
   "cell_type": "code",
   "execution_count": null,
   "id": "2bfeef33",
   "metadata": {},
   "outputs": [],
   "source": [
    "params = {'chirp_mass': mc,\n",
    "          'symmetric_mass_ratio': eta,\n",
    "          'spin_1z': s1z,\n",
    "          'spin_2z': s2z\n",
    "        }"
   ]
  },
  {
   "cell_type": "code",
   "execution_count": null,
   "id": "366f2a6e",
   "metadata": {},
   "outputs": [],
   "source": [
    "dx_directions = ['chirp_mass', 'symmetric_mass_ratio']"
   ]
  },
  {
   "cell_type": "code",
   "execution_count": null,
   "id": "45e470f2",
   "metadata": {
    "scrolled": true
   },
   "outputs": [],
   "source": [
    "g_mceta = metric.find_metric_and_eigendirections(params, dx_directions, snr, psds['f_low'], pycbc_psd['harm'], \n",
    "                                     approximant, tolerance=0.01, max_iter=20)"
   ]
  },
  {
   "cell_type": "code",
   "execution_count": null,
   "id": "21d9c9b0",
   "metadata": {},
   "outputs": [],
   "source": [
    "mceta_ellipse = generate_ellipse(g_mceta)\n",
    "\n",
    "mceta_matches = match_grid(g_mceta, lim = 1.3, npts=21)\n",
    "mceta_prob = np.exp(-snr**2/2 * (1 - mceta_matches['match']))"
   ]
  },
  {
   "cell_type": "code",
   "execution_count": null,
   "id": "422f39c6",
   "metadata": {},
   "outputs": [],
   "source": [
    "plt.plot(mceta_ellipse.samples[0], mceta_ellipse.samples[1], 'k')\n",
    "plt.xlabel(mceta_ellipse.keys()[0])\n",
    "plt.ylabel(mceta_ellipse.keys()[1])\n",
    "plt.grid()"
   ]
  },
  {
   "cell_type": "code",
   "execution_count": null,
   "id": "1b494bf4",
   "metadata": {},
   "outputs": [],
   "source": [
    "plt.figure(figsize=(12, 9))\n",
    "plt.contourf(mceta_matches.samples[0], mceta_matches.samples[1], mceta_prob, levels=np.linspace(0, 1, 21))\n",
    "plt.xlabel(mceta_matches.keys()[0])\n",
    "plt.ylabel(mceta_matches.keys()[1])\n",
    "plt.colorbar(label='pdf')\n",
    "plt.plot(mceta_ellipse.samples[0], mceta_ellipse.samples[1], 'r')\n",
    "plt.grid()"
   ]
  },
  {
   "cell_type": "code",
   "execution_count": null,
   "id": "efa8e878",
   "metadata": {},
   "outputs": [],
   "source": [
    "mass1 = conversions.mass1_from_mchirp_eta(mceta_matches['chirp_mass'], mceta_matches['symmetric_mass_ratio'])\n",
    "mass2 = conversions.mass2_from_mchirp_eta(mceta_matches['chirp_mass'], mceta_matches['symmetric_mass_ratio'])\n",
    "\n",
    "mass1_el = conversions.mass1_from_mchirp_eta(mceta_ellipse['chirp_mass'], mceta_ellipse['symmetric_mass_ratio'])\n",
    "mass2_el = conversions.mass2_from_mchirp_eta(mceta_ellipse['chirp_mass'], mceta_ellipse['symmetric_mass_ratio'])"
   ]
  },
  {
   "cell_type": "code",
   "execution_count": null,
   "id": "4ba568c3",
   "metadata": {},
   "outputs": [],
   "source": [
    "plt.figure(figsize=(12, 9))\n",
    "plt.contourf(mass1, mass2, mceta_prob, levels=np.linspace(0, 1, 21))\n",
    "plt.xlabel('mass1')\n",
    "plt.ylabel('mass2')\n",
    "plt.plot(mass1_el, mass2_el, 'r')\n",
    "plt.colorbar()\n",
    "plt.grid()"
   ]
  },
  {
   "cell_type": "markdown",
   "id": "404ad6f7",
   "metadata": {},
   "source": [
    "## Three dimensions with projection"
   ]
  },
  {
   "cell_type": "markdown",
   "id": "c6fe10a8",
   "metadata": {},
   "source": [
    "Note: we are using \"chi_eff\", but that's just putting the same spin on both BHs, so probably don't need to worry about the fact that it's not the best measured spin direction."
   ]
  },
  {
   "cell_type": "code",
   "execution_count": null,
   "id": "9186e3ce",
   "metadata": {},
   "outputs": [],
   "source": [
    "params = {'chirp_mass': mc,\n",
    "          'symmetric_mass_ratio': eta,\n",
    "          'chi_eff':chi_eff\n",
    "        }"
   ]
  },
  {
   "cell_type": "code",
   "execution_count": null,
   "id": "88c2292f",
   "metadata": {},
   "outputs": [],
   "source": [
    "dx_directions = ['chirp_mass', 'symmetric_mass_ratio', 'chi_eff']"
   ]
  },
  {
   "cell_type": "code",
   "execution_count": null,
   "id": "7fbae6c9",
   "metadata": {},
   "outputs": [],
   "source": [
    "g_3d = metric.find_metric_and_eigendirections(params, dx_directions, snr, psds['f_low'], pycbc_psd['harm'], \n",
    "                                     approximant, tolerance=0.01, max_iter=20)"
   ]
  },
  {
   "cell_type": "markdown",
   "id": "d2383745",
   "metadata": {},
   "source": [
    "### Chirp mass -- eta"
   ]
  },
  {
   "cell_type": "code",
   "execution_count": null,
   "id": "a65e2bbf",
   "metadata": {},
   "outputs": [],
   "source": [
    "dx_keep = ['chirp_mass','symmetric_mass_ratio']\n"
   ]
  },
  {
   "cell_type": "markdown",
   "id": "0e50795d",
   "metadata": {},
   "source": [
    "2d calculation"
   ]
  },
  {
   "cell_type": "code",
   "execution_count": null,
   "id": "6195ac35",
   "metadata": {},
   "outputs": [],
   "source": [
    "g_mceta = metric.find_metric_and_eigendirections(params, dx_keep, snr, psds['f_low'], pycbc_psd['harm'], \n",
    "                                     approximant, tolerance=0.01, max_iter=20)"
   ]
  },
  {
   "cell_type": "code",
   "execution_count": null,
   "id": "84f8c746",
   "metadata": {},
   "outputs": [],
   "source": [
    "mceta_ellipse = generate_ellipse(g_mceta)\n",
    "\n",
    "mceta_matches = match_grid(g_mceta, lim = 1.3, npts=21)\n",
    "mceta_prob = np.exp(-snr**2/2 * (1 - mceta_matches['match']))"
   ]
  },
  {
   "cell_type": "markdown",
   "id": "7711657b",
   "metadata": {},
   "source": [
    "3d calculation"
   ]
  },
  {
   "cell_type": "code",
   "execution_count": null,
   "id": "4e72eda6",
   "metadata": {},
   "outputs": [],
   "source": [
    "g_3d.project_metric(dx_keep)\n",
    "mceta_3d_ellipse = generate_ellipse(g_3d, projected=True)\n",
    "\n",
    "mceta_proj_matches = match_grid(g_3d, projected=True, lim = 1.1, npts=21)\n",
    "mceta_proj_prob = np.exp(-snr**2/2 * (1 - mceta_proj_matches['match']))"
   ]
  },
  {
   "cell_type": "markdown",
   "id": "c7950ccb",
   "metadata": {},
   "source": [
    "Compare regions"
   ]
  },
  {
   "cell_type": "code",
   "execution_count": null,
   "id": "0a9bd50e",
   "metadata": {},
   "outputs": [],
   "source": [
    "plt.plot(mceta_ellipse.samples[0], mceta_ellipse.samples[1], 'k')\n",
    "plt.plot(mceta_3d_ellipse.samples[0], mceta_3d_ellipse.samples[1], 'r')\n",
    "plt.xlabel(mceta_3d_ellipse.keys()[0])\n",
    "plt.ylabel(mceta_3d_ellipse.keys()[1])\n",
    "plt.grid()"
   ]
  },
  {
   "cell_type": "markdown",
   "id": "d26caaec",
   "metadata": {},
   "source": [
    "Check matches"
   ]
  },
  {
   "cell_type": "code",
   "execution_count": null,
   "id": "c3cbad88",
   "metadata": {},
   "outputs": [],
   "source": [
    "plt.figure(figsize=(12, 9))\n",
    "plt.contourf(mceta_matches.samples[0], mceta_matches.samples[1], mceta_prob, levels=np.linspace(0, 1, 21))\n",
    "plt.xlabel(mceta_matches.keys()[0])\n",
    "plt.ylabel(mceta_matches.keys()[1])\n",
    "plt.colorbar(label='pdf')\n",
    "plt.plot(mceta_ellipse.samples[0], mceta_ellipse.samples[1], 'r')\n",
    "plt.grid()"
   ]
  },
  {
   "cell_type": "code",
   "execution_count": null,
   "id": "33622934",
   "metadata": {},
   "outputs": [],
   "source": [
    "npts = 21"
   ]
  },
  {
   "cell_type": "code",
   "execution_count": null,
   "id": "edd0ef46",
   "metadata": {},
   "outputs": [],
   "source": [
    "plt.figure(figsize=(12, 9))\n",
    "plt.contourf(mceta_proj_matches.samples[0].reshape([npts,npts]), \n",
    "             mceta_proj_matches.samples[1].reshape([npts,npts]), \n",
    "             mceta_proj_prob.reshape([npts,npts]), \n",
    "             levels=np.linspace(0, 1, 21))\n",
    "plt.xlabel(mceta_proj_matches.keys()[0])\n",
    "plt.ylabel(mceta_proj_matches.keys()[1])\n",
    "plt.colorbar(label='pdf')\n",
    "plt.plot(mceta_3d_ellipse.samples[0], mceta_3d_ellipse.samples[1], 'r')\n",
    "plt.grid()"
   ]
  },
  {
   "cell_type": "markdown",
   "id": "b2cb0358",
   "metadata": {},
   "source": [
    "### eta -- chi eff"
   ]
  },
  {
   "cell_type": "code",
   "execution_count": null,
   "id": "bc8dd19b",
   "metadata": {},
   "outputs": [],
   "source": [
    "dx_keep = ['symmetric_mass_ratio', 'chi_eff']"
   ]
  },
  {
   "cell_type": "code",
   "execution_count": null,
   "id": "1498bbdc",
   "metadata": {},
   "outputs": [],
   "source": [
    "g_eta_chi = metric.find_metric_and_eigendirections(params, dx_keep, snr, psds['f_low'], pycbc_psd['harm'], \n",
    "                                     approximant, tolerance=0.01, max_iter=20)\n",
    "\n",
    "eta_chi_ellipse = generate_ellipse(g_eta_chi)\n",
    "\n",
    "eta_chi_matches = match_grid(g_eta_chi, lim = 1.3, npts=21)\n",
    "eta_chi_prob = np.exp(-snr**2/2 * (1 - eta_chi_matches['match']))"
   ]
  },
  {
   "cell_type": "code",
   "execution_count": null,
   "id": "15ff05dd",
   "metadata": {},
   "outputs": [],
   "source": [
    "g_3d.project_metric(dx_keep)\n",
    "eta_chi_3d_ellipse = generate_ellipse(g_3d, projected=True)\n",
    "\n",
    "eta_chi_proj_matches = match_grid(g_3d, projected=True, lim = 1.1, npts=21)\n",
    "eta_chi_proj_prob = np.exp(-snr**2/2 * (1 - eta_chi_proj_matches['match']))"
   ]
  },
  {
   "cell_type": "code",
   "execution_count": null,
   "id": "e06d16ca",
   "metadata": {},
   "outputs": [],
   "source": [
    "plt.plot(eta_chi_ellipse.samples[0], eta_chi_ellipse.samples[1], 'k')\n",
    "plt.plot(eta_chi_3d_ellipse.samples[0], eta_chi_3d_ellipse.samples[1], 'r')\n",
    "plt.xlabel(eta_chi_3d_ellipse.keys()[0])\n",
    "plt.ylabel(eta_chi_3d_ellipse.keys()[1])\n",
    "plt.grid()"
   ]
  },
  {
   "cell_type": "code",
   "execution_count": null,
   "id": "f6dfed85",
   "metadata": {},
   "outputs": [],
   "source": [
    "plt.figure(figsize=(12, 9))\n",
    "plt.contourf(eta_chi_matches.samples[0], eta_chi_matches.samples[1], eta_chi_prob, levels=np.linspace(0, 1, 21))\n",
    "plt.xlabel(eta_chi_matches.keys()[0])\n",
    "plt.ylabel(eta_chi_matches.keys()[1])\n",
    "plt.colorbar(label='pdf')\n",
    "plt.plot(eta_chi_ellipse.samples[0], eta_chi_ellipse.samples[1], 'r')\n",
    "plt.grid()"
   ]
  },
  {
   "cell_type": "code",
   "execution_count": null,
   "id": "3b85038a",
   "metadata": {},
   "outputs": [],
   "source": [
    "plt.figure(figsize=(12, 9))\n",
    "plt.contourf(eta_chi_proj_matches.samples[0].reshape([npts,npts]), \n",
    "             eta_chi_proj_matches.samples[1].reshape([npts,npts]), \n",
    "             eta_chi_proj_prob.reshape([npts,npts]), \n",
    "             levels=np.linspace(0, 1, 21))\n",
    "plt.xlabel(eta_chi_proj_matches.keys()[0])\n",
    "plt.ylabel(eta_chi_proj_matches.keys()[1])\n",
    "plt.colorbar(label='pdf')\n",
    "plt.plot(eta_chi_3d_ellipse.samples[0], eta_chi_3d_ellipse.samples[1], 'r')\n",
    "plt.grid()"
   ]
  },
  {
   "cell_type": "markdown",
   "id": "b9d9ddcd",
   "metadata": {},
   "source": [
    "### chirp mass -- chi eff"
   ]
  },
  {
   "cell_type": "code",
   "execution_count": null,
   "id": "aa4b8dab",
   "metadata": {},
   "outputs": [],
   "source": [
    "dx_keep = ['chirp_mass', 'chi_eff']"
   ]
  },
  {
   "cell_type": "code",
   "execution_count": null,
   "id": "b8b7542b",
   "metadata": {},
   "outputs": [],
   "source": [
    "g_mc_chi = metric.find_metric_and_eigendirections(params, dx_keep, snr, psds['f_low'], pycbc_psd['harm'], \n",
    "                                     approximant, tolerance=0.01, max_iter=20)\n",
    "\n",
    "mc_chi_ellipse = generate_ellipse(g_mc_chi)\n",
    "\n",
    "mc_chi_matches = match_grid(g_mc_chi, lim = 1.3, npts=21)\n",
    "mc_chi_prob = np.exp(-snr**2/2 * (1 - mc_chi_matches['match']))"
   ]
  },
  {
   "cell_type": "code",
   "execution_count": null,
   "id": "5093d5a4",
   "metadata": {},
   "outputs": [],
   "source": [
    "g_3d.project_metric(dx_keep)\n",
    "mc_chi_3d_ellipse = generate_ellipse(g_3d, projected=True)"
   ]
  },
  {
   "cell_type": "code",
   "execution_count": null,
   "id": "2489016c",
   "metadata": {},
   "outputs": [],
   "source": [
    "mc_chi_proj_matches = match_grid(g_3d, projected=True, lim = 1.1, npts=21)\n",
    "mc_chi_proj_prob = np.exp(-snr**2/2 * (1 - mc_chi_proj_matches['match']))"
   ]
  },
  {
   "cell_type": "code",
   "execution_count": null,
   "id": "95d59576",
   "metadata": {},
   "outputs": [],
   "source": [
    "plt.plot(mc_chi_ellipse.samples[0], mc_chi_ellipse.samples[1], 'k')\n",
    "plt.plot(mc_chi_3d_ellipse.samples[0], mc_chi_3d_ellipse.samples[1], 'r')\n",
    "plt.xlabel(mc_chi_3d_ellipse.keys()[0])\n",
    "plt.ylabel(mc_chi_3d_ellipse.keys()[1])\n",
    "plt.grid()"
   ]
  },
  {
   "cell_type": "code",
   "execution_count": null,
   "id": "ccca862d",
   "metadata": {},
   "outputs": [],
   "source": [
    "plt.figure(figsize=(12, 9))\n",
    "plt.contourf(mc_chi_matches.samples[0], mc_chi_matches.samples[1], mc_chi_prob, levels=np.linspace(0, 1, 21))\n",
    "plt.xlabel(mc_chi_matches.keys()[0])\n",
    "plt.ylabel(mc_chi_matches.keys()[1])\n",
    "plt.colorbar(label='pdf')\n",
    "plt.plot(mc_chi_ellipse.samples[0], mc_chi_ellipse.samples[1], 'r')\n",
    "plt.grid()"
   ]
  },
  {
   "cell_type": "code",
   "execution_count": null,
   "id": "0e54dcb1",
   "metadata": {},
   "outputs": [],
   "source": [
    "plt.figure(figsize=(12, 9))\n",
    "plt.contourf(mc_chi_proj_matches.samples[0].reshape([npts,npts]), \n",
    "             mc_chi_proj_matches.samples[1].reshape([npts,npts]), \n",
    "             mc_chi_proj_prob.reshape([npts,npts]), \n",
    "             levels=np.linspace(0, 1, 21))\n",
    "plt.xlabel(mc_chi_proj_matches.keys()[0])\n",
    "plt.ylabel(mc_chi_proj_matches.keys()[1])\n",
    "plt.colorbar(label='pdf')\n",
    "plt.plot(mc_chi_3d_ellipse.samples[0], mc_chi_3d_ellipse.samples[1], 'r')\n",
    "plt.grid()"
   ]
  }
 ],
 "metadata": {
  "kernelspec": {
   "display_name": "Python 3 (ipykernel)",
   "language": "python",
   "name": "python3"
  },
  "language_info": {
   "codemirror_mode": {
    "name": "ipython",
    "version": 3
   },
   "file_extension": ".py",
   "mimetype": "text/x-python",
   "name": "python",
   "nbconvert_exporter": "python",
   "pygments_lexer": "ipython3",
   "version": "3.8.12"
  }
 },
 "nbformat": 4,
 "nbformat_minor": 5
}
