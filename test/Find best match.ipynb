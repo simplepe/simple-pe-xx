{
 "cells": [
  {
   "cell_type": "markdown",
   "id": "a40ec0ff",
   "metadata": {},
   "source": [
    "## Find the best match, starting from an offset point"
   ]
  },
  {
   "cell_type": "code",
   "execution_count": 1,
   "id": "b1d03c10",
   "metadata": {},
   "outputs": [],
   "source": [
    "%matplotlib inline\n",
    "import matplotlib.pyplot as plt\n",
    "import numpy as np\n",
    "import copy\n",
    "\n",
    "from pycbc import conversions, psd\n",
    "from pycbc.filter import match\n",
    "\n",
    "from simple_pe.param_est import metric\n",
    "from pesummary.utils.samples_dict import SamplesDict\n",
    "from pesummary.gw.conversions import convert"
   ]
  },
  {
   "cell_type": "code",
   "execution_count": 2,
   "id": "99c729ca",
   "metadata": {},
   "outputs": [],
   "source": [
    "import logging\n",
    "_logger = logging.getLogger('PESummary')\n",
    "_logger.setLevel(logging.CRITICAL + 10)"
   ]
  },
  {
   "cell_type": "markdown",
   "id": "d069b654",
   "metadata": {},
   "source": [
    "## GW190412-like signal"
   ]
  },
  {
   "cell_type": "markdown",
   "id": "a94c69d8",
   "metadata": {},
   "source": [
    "## Read in PSDs, etc"
   ]
  },
  {
   "cell_type": "code",
   "execution_count": 3,
   "id": "887238a6",
   "metadata": {},
   "outputs": [],
   "source": [
    "ifos = ['H1', 'L1', 'V1']\n",
    "\n",
    "psds = {'H1': 'aLIGOMidHighSensitivityP1200087',\n",
    "        'L1': 'aLIGOMidHighSensitivityP1200087',\n",
    "        'V1': 'AdVMidHighSensitivityP1200087',\n",
    "        'f_low': 20.,\n",
    "        'f_high': 8192,\n",
    "        'length': 32\n",
    "        }\n",
    "\n",
    "psds['delta_f'] = 1. / psds['length']\n",
    "\n",
    "approximant = 'IMRPhenomXPHM'"
   ]
  },
  {
   "cell_type": "code",
   "execution_count": 4,
   "id": "446df660",
   "metadata": {},
   "outputs": [
    {
     "name": "stderr",
     "output_type": "stream",
     "text": [
      "/home/spxsf2/miniconda3/envs/igwn-py38/lib/python3.8/site-packages/pycbc/types/array.py:375: RuntimeWarning: divide by zero encountered in true_divide\n",
      "  return self._data.__rtruediv__(other)\n"
     ]
    }
   ],
   "source": [
    "pycbc_psd = {}\n",
    "for ifo in ifos:\n",
    "    pycbc_psd[ifo] = psd.analytical.from_string(psds[ifo], psds['length'] * psds['f_high'] + 1, psds['delta_f'],\n",
    "                                                psds['f_low'])\n",
    "\n",
    "pycbc_psd['harm'] = 3. / sum([1. / pycbc_psd[ifo] for ifo in ifos])"
   ]
  },
  {
   "cell_type": "markdown",
   "id": "7c2dd7c4",
   "metadata": {},
   "source": [
    "## Parameters"
   ]
  },
  {
   "cell_type": "code",
   "execution_count": 5,
   "id": "a895b600",
   "metadata": {},
   "outputs": [],
   "source": [
    "m1 = 30.\n",
    "m2 = 10.\n",
    "mc = conversions.mchirp_from_mass1_mass2(m1, m2)\n",
    "eta = conversions.eta_from_mass1_mass2(m1, m2)\n",
    "s1z = 0.3\n",
    "s2z = 0.\n",
    "chi_eff = conversions.chi_eff(m1, m2, s1z, s2z)\n",
    "dist = 1.\n",
    "snr = 18"
   ]
  },
  {
   "cell_type": "code",
   "execution_count": 6,
   "id": "9b7e5ddc",
   "metadata": {},
   "outputs": [],
   "source": [
    "params = {'mass_1': m1,\n",
    "          'mass_2': m2,\n",
    "          'spin_1z': s1z,\n",
    "          'spin_2z': s2z,\n",
    "          'distance': dist\n",
    "        }"
   ]
  },
  {
   "cell_type": "markdown",
   "id": "3dd3212f",
   "metadata": {},
   "source": [
    "## Make a waveform"
   ]
  },
  {
   "cell_type": "code",
   "execution_count": 7,
   "id": "e2402a95",
   "metadata": {},
   "outputs": [],
   "source": [
    "h0 = metric.make_waveform(params, psds['delta_f'], psds['f_low'], \n",
    "                         len(pycbc_psd['harm']), approximant)\n"
   ]
  },
  {
   "cell_type": "markdown",
   "id": "a35fb9db",
   "metadata": {},
   "source": [
    "Offset spins"
   ]
  },
  {
   "cell_type": "code",
   "execution_count": 8,
   "id": "b6c703f7",
   "metadata": {},
   "outputs": [],
   "source": [
    "start = copy.deepcopy(params)\n",
    "start['spin_1z'] += 0.1\n",
    "start['spin_2z'] += 0.1"
   ]
  },
  {
   "cell_type": "code",
   "execution_count": 9,
   "id": "dbcc1b75",
   "metadata": {},
   "outputs": [],
   "source": [
    "dx_directions = ['spin_1z', 'spin_2z']\n",
    "mismatch = 0.03"
   ]
  },
  {
   "cell_type": "code",
   "execution_count": 10,
   "id": "ed567e1b",
   "metadata": {},
   "outputs": [],
   "source": [
    "x_peak, match = metric.find_best_match(h0, start, dx_directions, psds['f_low'], pycbc_psd['harm'], \n",
    "                                     approximant=approximant, mismatch=mismatch)"
   ]
  },
  {
   "cell_type": "code",
   "execution_count": 11,
   "id": "283ccbfb",
   "metadata": {},
   "outputs": [
    {
     "name": "stdout",
     "output_type": "stream",
     "text": [
      "0.9956601333276608 0.03\n",
      "0.9967401362177459 0.0075\n",
      "0.9998035108839411 0.001875\n",
      "0.9999786003682013 0.00046875\n",
      "0.9999992937051501 0.0001171875\n"
     ]
    }
   ],
   "source": [
    "while mismatch > 1e-4:\n",
    "    x_peak, match = metric.find_best_match(h0, x_peak, dx_directions, psds['f_low'], pycbc_psd['harm'], \n",
    "                                     approximant=approximant, mismatch=mismatch, tolerance=0.05)\n",
    "    print(match, mismatch)\n",
    "    mismatch /=4\n"
   ]
  },
  {
   "cell_type": "code",
   "execution_count": 12,
   "id": "8ff82a72",
   "metadata": {},
   "outputs": [
    {
     "name": "stdout",
     "output_type": "stream",
     "text": [
      "Waveform generated at\n",
      "{'mass_1': 30.0, 'mass_2': 10.0, 'spin_1z': 0.3, 'spin_2z': 0.0, 'distance': 1.0}\n"
     ]
    }
   ],
   "source": [
    "print(\"Waveform generated at\")\n",
    "print(params)"
   ]
  },
  {
   "cell_type": "code",
   "execution_count": 13,
   "id": "d8bf3a40",
   "metadata": {},
   "outputs": [
    {
     "name": "stdout",
     "output_type": "stream",
     "text": [
      "best match: 1.0000\n",
      "at parameters\n",
      "{'mass_1': 30.0, 'mass_2': 10.0, 'spin_1z': 0.2998305858849801, 'spin_2z': 0.0003683021460674299, 'distance': 1.0}\n"
     ]
    }
   ],
   "source": [
    "print(\"best match: %.4f\" % match)\n",
    "print(\"at parameters\")\n",
    "print(x_peak)"
   ]
  },
  {
   "cell_type": "markdown",
   "id": "c92783bb",
   "metadata": {},
   "source": [
    "And with scipy"
   ]
  },
  {
   "cell_type": "code",
   "execution_count": 14,
   "id": "27a9a257",
   "metadata": {},
   "outputs": [],
   "source": [
    "start = copy.deepcopy(params)\n",
    "start['spin_1z'] += 0.1\n",
    "start['spin_2z'] += 0.1"
   ]
  },
  {
   "cell_type": "code",
   "execution_count": 15,
   "id": "d8aec033",
   "metadata": {},
   "outputs": [],
   "source": [
    "x_peak, match = metric.find_best_match(h0, start, dx_directions, psds['f_low'], pycbc_psd['harm'], \n",
    "                                     approximant=approximant, method='scipy')"
   ]
  },
  {
   "cell_type": "code",
   "execution_count": 16,
   "id": "c743261b",
   "metadata": {},
   "outputs": [
    {
     "name": "stdout",
     "output_type": "stream",
     "text": [
      "mismatch: 1.407e-05\n",
      "at parameters\n",
      "{'spin_1z': 0.28793391677641883, 'spin_2z': 0.05399410726267354}\n"
     ]
    }
   ],
   "source": [
    "print(\"mismatch: %.4g\" % (1 - match) )\n",
    "print(\"at parameters\")\n",
    "print(x_peak)"
   ]
  },
  {
   "cell_type": "markdown",
   "id": "6711399d",
   "metadata": {},
   "source": [
    "### Offset masses"
   ]
  },
  {
   "cell_type": "code",
   "execution_count": 17,
   "id": "467d2f8a",
   "metadata": {},
   "outputs": [],
   "source": [
    "params = {'chirp_mass': mc,\n",
    "          'symmetric_mass_ratio': eta,\n",
    "          'chi_eff': chi_eff,\n",
    "          'distance': dist\n",
    "        }\n",
    "h0 = metric.make_waveform(params, psds['delta_f'], psds['f_low'], \n",
    "                         len(pycbc_psd['harm']), approximant)"
   ]
  },
  {
   "cell_type": "code",
   "execution_count": 18,
   "id": "9bc87d3c",
   "metadata": {},
   "outputs": [],
   "source": [
    "start = copy.deepcopy(params)\n",
    "start['chirp_mass'] += 0.1\n",
    "start['chi_eff'] += 0.1"
   ]
  },
  {
   "cell_type": "code",
   "execution_count": 19,
   "id": "edeee25a",
   "metadata": {},
   "outputs": [],
   "source": [
    "dx_directions = ['chirp_mass', 'symmetric_mass_ratio', 'chi_eff']\n",
    "mismatch = 0.02"
   ]
  },
  {
   "cell_type": "code",
   "execution_count": 20,
   "id": "06ac18c6",
   "metadata": {},
   "outputs": [
    {
     "name": "stdout",
     "output_type": "stream",
     "text": [
      "0.9978010218578469 0.02\n",
      "0.9999552050735097 0.005\n",
      "0.9999898235654362 0.00125\n"
     ]
    }
   ],
   "source": [
    "x_peak = start\n",
    "while mismatch > 1e-3:\n",
    "    x_peak, match = metric.find_best_match(h0, x_peak, dx_directions, psds['f_low'], pycbc_psd['harm'], \n",
    "                                     approximant=approximant, mismatch=mismatch, tolerance=0.05)\n",
    "    print(match, mismatch)\n",
    "    mismatch /=4"
   ]
  },
  {
   "cell_type": "code",
   "execution_count": 21,
   "id": "ada82e83",
   "metadata": {},
   "outputs": [
    {
     "name": "stdout",
     "output_type": "stream",
     "text": [
      "Waveform generated at\n",
      "{'chirp_mass': 14.650780257917608, 'symmetric_mass_ratio': 0.1875, 'chi_eff': 0.225, 'distance': 1.0}\n"
     ]
    }
   ],
   "source": [
    "print(\"Waveform generated at\")\n",
    "print(params)"
   ]
  },
  {
   "cell_type": "code",
   "execution_count": 22,
   "id": "f01c0b9b",
   "metadata": {},
   "outputs": [
    {
     "name": "stdout",
     "output_type": "stream",
     "text": [
      "mismatch: 1.018e-05\n",
      "at parameters\n",
      "{'chirp_mass': 14.647039106893113, 'symmetric_mass_ratio': 0.18932810940908154, 'chi_eff': 0.21830690143616632, 'distance': 1.0}\n"
     ]
    }
   ],
   "source": [
    "print(\"mismatch: %.4g\" % (1 - match) )\n",
    "print(\"at parameters\")\n",
    "print(x_peak)"
   ]
  },
  {
   "cell_type": "markdown",
   "id": "28040bad",
   "metadata": {},
   "source": [
    "Now with scipy"
   ]
  },
  {
   "cell_type": "code",
   "execution_count": 23,
   "id": "0a77ba17",
   "metadata": {},
   "outputs": [],
   "source": [
    "start = copy.deepcopy(params)\n",
    "start['chirp_mass'] += 0.1\n",
    "start['chi_eff'] += 0.1"
   ]
  },
  {
   "cell_type": "code",
   "execution_count": 24,
   "id": "8c7e1e40",
   "metadata": {},
   "outputs": [],
   "source": [
    "x_peak, match = metric.find_best_match(h0, start, dx_directions, psds['f_low'], pycbc_psd['harm'], \n",
    "                                     approximant=approximant, method='scipy')"
   ]
  },
  {
   "cell_type": "code",
   "execution_count": 25,
   "id": "34c907c1",
   "metadata": {},
   "outputs": [
    {
     "name": "stdout",
     "output_type": "stream",
     "text": [
      "mismatch: 0.001945\n",
      "at parameters\n",
      "{'chirp_mass': 14.707912018595932, 'symmetric_mass_ratio': 0.16338551757585443, 'chi_eff': 0.31320141226503795}\n"
     ]
    }
   ],
   "source": [
    "print(\"mismatch: %.4g\" % (1 - match) )\n",
    "print(\"at parameters\")\n",
    "print(x_peak)"
   ]
  }
 ],
 "metadata": {
  "kernelspec": {
   "display_name": "Python 3 (ipykernel)",
   "language": "python",
   "name": "python3"
  },
  "language_info": {
   "codemirror_mode": {
    "name": "ipython",
    "version": 3
   },
   "file_extension": ".py",
   "mimetype": "text/x-python",
   "name": "python",
   "nbconvert_exporter": "python",
   "pygments_lexer": "ipython3",
   "version": "3.8.12"
  }
 },
 "nbformat": 4,
 "nbformat_minor": 5
}
