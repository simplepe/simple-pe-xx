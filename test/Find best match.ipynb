{
 "cells": [
  {
   "cell_type": "markdown",
   "metadata": {},
   "source": [
    "## Find the best match, starting from an offset point"
   ]
  },
  {
   "cell_type": "code",
   "execution_count": 1,
   "metadata": {},
   "outputs": [],
   "source": [
    "%matplotlib inline\n",
    "import matplotlib.pyplot as plt\n",
    "import numpy as np\n",
    "import copy\n",
    "\n",
    "from pycbc import conversions, psd\n",
    "from pycbc.filter import match\n",
    "\n",
    "from simple_pe.param_est import metric, pe\n",
    "from pesummary.utils.samples_dict import SamplesDict\n",
    "from pesummary.gw.conversions import convert"
   ]
  },
  {
   "cell_type": "code",
   "execution_count": 2,
   "metadata": {},
   "outputs": [],
   "source": [
    "import logging\n",
    "_logger = logging.getLogger('PESummary')\n",
    "_logger.setLevel(logging.CRITICAL + 10)"
   ]
  },
  {
   "cell_type": "markdown",
   "metadata": {},
   "source": [
    "## GW190412-like signal"
   ]
  },
  {
   "cell_type": "markdown",
   "metadata": {},
   "source": [
    "## Read in PSDs, etc"
   ]
  },
  {
   "cell_type": "code",
   "execution_count": 3,
   "metadata": {},
   "outputs": [],
   "source": [
    "ifos = ['H1', 'L1', 'V1']\n",
    "\n",
    "psds = {'H1': 'aLIGOMidHighSensitivityP1200087',\n",
    "        'L1': 'aLIGOMidHighSensitivityP1200087',\n",
    "        'V1': 'AdVMidHighSensitivityP1200087',\n",
    "        'f_low': 20.,\n",
    "        'f_high': 8192,\n",
    "        'length': 32\n",
    "        }\n",
    "\n",
    "psds['delta_f'] = 1. / psds['length']\n",
    "\n",
    "approximant = 'IMRPhenomXPHM'"
   ]
  },
  {
   "cell_type": "code",
   "execution_count": 4,
   "metadata": {},
   "outputs": [
    {
     "name": "stderr",
     "output_type": "stream",
     "text": [
      "/home/stephen.fairhurst/.conda/envs/eccentric/lib/python3.9/site-packages/pycbc/types/array.py:390: RuntimeWarning: divide by zero encountered in true_divide\n",
      "  return self._data.__rtruediv__(other)\n"
     ]
    }
   ],
   "source": [
    "pycbc_psd = {}\n",
    "for ifo in ifos:\n",
    "    pycbc_psd[ifo] = psd.analytical.from_string(psds[ifo], psds['length'] * psds['f_high'] + 1, psds['delta_f'],\n",
    "                                                psds['f_low'])\n",
    "\n",
    "pycbc_psd['harm'] = 3. / sum([1. / pycbc_psd[ifo] for ifo in ifos])"
   ]
  },
  {
   "cell_type": "markdown",
   "metadata": {},
   "source": [
    "## Parameters"
   ]
  },
  {
   "cell_type": "code",
   "execution_count": 5,
   "metadata": {},
   "outputs": [],
   "source": [
    "m1 = 30.\n",
    "m2 = 10.\n",
    "mc = conversions.mchirp_from_mass1_mass2(m1, m2)\n",
    "eta = conversions.eta_from_mass1_mass2(m1, m2)\n",
    "s1z = 0.3\n",
    "s2z = 0.\n",
    "chi_eff = conversions.chi_eff(m1, m2, s1z, s2z)\n",
    "dist = 1.\n",
    "snr = 18"
   ]
  },
  {
   "cell_type": "code",
   "execution_count": 6,
   "metadata": {},
   "outputs": [],
   "source": [
    "params = {'mass_1': m1,\n",
    "          'mass_2': m2,\n",
    "          'spin_1z': s1z,\n",
    "          'spin_2z': s2z,\n",
    "          'distance': dist\n",
    "        }\n",
    "params = pe.SimplePESamples(params)"
   ]
  },
  {
   "cell_type": "markdown",
   "metadata": {},
   "source": [
    "## Make a waveform"
   ]
  },
  {
   "cell_type": "code",
   "execution_count": 7,
   "metadata": {},
   "outputs": [],
   "source": [
    "h0 = metric.make_waveform(params, psds['delta_f'], psds['f_low'], \n",
    "                         len(pycbc_psd['harm']), approximant)\n"
   ]
  },
  {
   "cell_type": "markdown",
   "metadata": {},
   "source": [
    "Offset the starting point"
   ]
  },
  {
   "cell_type": "code",
   "execution_count": 8,
   "metadata": {},
   "outputs": [],
   "source": [
    "start = copy.deepcopy(params)\n",
    "start['spin_1z'] += 0.1\n",
    "start['spin_2z'] += 0.1"
   ]
  },
  {
   "cell_type": "markdown",
   "metadata": {},
   "source": [
    "Now try to find the peak"
   ]
  },
  {
   "cell_type": "code",
   "execution_count": 9,
   "metadata": {},
   "outputs": [],
   "source": [
    "dx_directions = ['spin_1z', 'spin_2z']\n",
    "mismatch = 0.03"
   ]
  },
  {
   "cell_type": "code",
   "execution_count": 10,
   "metadata": {},
   "outputs": [],
   "source": [
    "start = copy.deepcopy(params)\n",
    "start['spin_1z'] += 0.1\n",
    "start['spin_2z'] += 0.1"
   ]
  },
  {
   "cell_type": "code",
   "execution_count": 11,
   "metadata": {},
   "outputs": [],
   "source": [
    "x_peak, match = metric.find_best_match(h0, start, dx_directions, psds['f_low'], pycbc_psd['harm'], \n",
    "                                     approximant=approximant, method='scipy')"
   ]
  },
  {
   "cell_type": "code",
   "execution_count": 12,
   "metadata": {},
   "outputs": [
    {
     "name": "stdout",
     "output_type": "stream",
     "text": [
      "mismatch: 3.109e-15\n",
      "at parameters\n",
      "{'spin_1z': 0.2999997047374733, 'spin_2z': 1.273701573855085e-06}\n"
     ]
    }
   ],
   "source": [
    "print(\"mismatch: %.4g\" % (1 - match) )\n",
    "print(\"at parameters\")\n",
    "print(x_peak)"
   ]
  },
  {
   "cell_type": "markdown",
   "metadata": {},
   "source": [
    "### Offset masses"
   ]
  },
  {
   "cell_type": "code",
   "execution_count": 13,
   "metadata": {},
   "outputs": [],
   "source": [
    "params = {'chirp_mass': mc,\n",
    "          'symmetric_mass_ratio': eta,\n",
    "          'chi_eff': chi_eff,\n",
    "          'distance': dist\n",
    "        }\n",
    "\n",
    "params = pe.SimplePESamples(params)"
   ]
  },
  {
   "cell_type": "code",
   "execution_count": 14,
   "metadata": {},
   "outputs": [],
   "source": [
    "h0 = metric.make_waveform(params, psds['delta_f'], psds['f_low'], \n",
    "                         len(pycbc_psd['harm']), approximant)"
   ]
  },
  {
   "cell_type": "code",
   "execution_count": 15,
   "metadata": {},
   "outputs": [],
   "source": [
    "start = copy.deepcopy(params)\n",
    "start['chirp_mass'] += 0.1\n",
    "start['chi_eff'] += 0.1"
   ]
  },
  {
   "cell_type": "code",
   "execution_count": 17,
   "metadata": {},
   "outputs": [],
   "source": [
    "dx_directions = ['chirp_mass', 'symmetric_mass_ratio', 'chi_eff']\n",
    "mismatch = 0.02"
   ]
  },
  {
   "cell_type": "code",
   "execution_count": 19,
   "metadata": {},
   "outputs": [],
   "source": [
    "x_peak, match = metric.find_best_match(h0, start, dx_directions, psds['f_low'], pycbc_psd['harm'], \n",
    "                                     approximant=approximant, method='scipy')"
   ]
  },
  {
   "cell_type": "code",
   "execution_count": 20,
   "metadata": {},
   "outputs": [
    {
     "name": "stdout",
     "output_type": "stream",
     "text": [
      "mismatch: 1.592e-11\n",
      "at parameters\n",
      "{'chirp_mass': 14.650772466618802, 'symmetric_mass_ratio': 0.1875000896897749, 'chi_eff': 0.22499761025848566}\n"
     ]
    }
   ],
   "source": [
    "print(\"mismatch: %.4g\" % (1 - match) )\n",
    "print(\"at parameters\")\n",
    "print(x_peak)"
   ]
  },
  {
   "cell_type": "code",
   "execution_count": null,
   "metadata": {},
   "outputs": [],
   "source": []
  }
 ],
 "metadata": {
  "kernelspec": {
   "display_name": "Eccentric",
   "language": "python",
   "name": "eccentric"
  },
  "language_info": {
   "codemirror_mode": {
    "name": "ipython",
    "version": 3
   },
   "file_extension": ".py",
   "mimetype": "text/x-python",
   "name": "python",
   "nbconvert_exporter": "python",
   "pygments_lexer": "ipython3",
   "version": "3.9.13"
  }
 },
 "nbformat": 4,
 "nbformat_minor": 5
}
