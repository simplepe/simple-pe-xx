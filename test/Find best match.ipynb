{
 "cells": [
  {
   "cell_type": "code",
   "execution_count": 1,
   "id": "b1d03c10",
   "metadata": {},
   "outputs": [],
   "source": [
    "%matplotlib inline\n",
    "import matplotlib.pyplot as plt\n",
    "import numpy as np\n",
    "import copy\n",
    "\n",
    "from pycbc import conversions, psd\n",
    "from pycbc.filter import match\n",
    "\n",
    "from simple_pe.param_est import metric\n",
    "from pesummary.utils.samples_dict import SamplesDict\n",
    "from pesummary.gw.conversions import convert"
   ]
  },
  {
   "cell_type": "code",
   "execution_count": 2,
   "id": "99c729ca",
   "metadata": {},
   "outputs": [],
   "source": [
    "import logging\n",
    "_logger = logging.getLogger('PESummary')\n",
    "_logger.setLevel(logging.CRITICAL + 10)"
   ]
  },
  {
   "cell_type": "markdown",
   "id": "d069b654",
   "metadata": {},
   "source": [
    "## GW190412-like signal"
   ]
  },
  {
   "cell_type": "markdown",
   "id": "a94c69d8",
   "metadata": {},
   "source": [
    "## Read in PSDs, etc"
   ]
  },
  {
   "cell_type": "code",
   "execution_count": 3,
   "id": "887238a6",
   "metadata": {},
   "outputs": [],
   "source": [
    "ifos = ['H1', 'L1', 'V1']\n",
    "\n",
    "psds = {'H1': 'aLIGOMidHighSensitivityP1200087',\n",
    "        'L1': 'aLIGOMidHighSensitivityP1200087',\n",
    "        'V1': 'AdVMidHighSensitivityP1200087',\n",
    "        'f_low': 20.,\n",
    "        'f_high': 8192,\n",
    "        'length': 32\n",
    "        }\n",
    "\n",
    "psds['delta_f'] = 1. / psds['length']\n",
    "\n",
    "approximant = 'IMRPhenomXPHM'"
   ]
  },
  {
   "cell_type": "code",
   "execution_count": 4,
   "id": "446df660",
   "metadata": {},
   "outputs": [
    {
     "name": "stderr",
     "output_type": "stream",
     "text": [
      "/home/spxsf2/miniconda3/envs/igwn-py38/lib/python3.8/site-packages/pycbc/types/array.py:375: RuntimeWarning: divide by zero encountered in true_divide\n",
      "  return self._data.__rtruediv__(other)\n"
     ]
    }
   ],
   "source": [
    "pycbc_psd = {}\n",
    "for ifo in ifos:\n",
    "    pycbc_psd[ifo] = psd.analytical.from_string(psds[ifo], psds['length'] * psds['f_high'] + 1, psds['delta_f'],\n",
    "                                                psds['f_low'])\n",
    "\n",
    "pycbc_psd['harm'] = 3. / sum([1. / pycbc_psd[ifo] for ifo in ifos])"
   ]
  },
  {
   "cell_type": "markdown",
   "id": "7c2dd7c4",
   "metadata": {},
   "source": [
    "## Parameters"
   ]
  },
  {
   "cell_type": "code",
   "execution_count": 5,
   "id": "a895b600",
   "metadata": {},
   "outputs": [],
   "source": [
    "m1 = 30.\n",
    "m2 = 10.\n",
    "mc = conversions.mchirp_from_mass1_mass2(m1, m2)\n",
    "eta = conversions.eta_from_mass1_mass2(m1, m2)\n",
    "s1z = 0.3\n",
    "s2z = 0.\n",
    "chi_eff = conversions.chi_eff(m1, m2, s1z, s2z)\n",
    "snr = 18"
   ]
  },
  {
   "cell_type": "code",
   "execution_count": 6,
   "id": "9b7e5ddc",
   "metadata": {},
   "outputs": [],
   "source": [
    "params = {'mass_1': m1,\n",
    "          'mass_2': m2,\n",
    "          'spin_1z': s1z,\n",
    "          'spin_2z': s2z\n",
    "        }"
   ]
  },
  {
   "cell_type": "markdown",
   "id": "c17c7421",
   "metadata": {},
   "source": [
    "## Make a waveform"
   ]
  },
  {
   "cell_type": "code",
   "execution_count": 7,
   "id": "93499bdb",
   "metadata": {},
   "outputs": [],
   "source": [
    "h0 = metric.make_waveform(params, params, 0., 1., psds['delta_f'], psds['f_low'], \n",
    "                         len(pycbc_psd['harm']), approximant)\n"
   ]
  },
  {
   "cell_type": "markdown",
   "id": "31b747d3",
   "metadata": {},
   "source": [
    "Offset spins"
   ]
  },
  {
   "cell_type": "code",
   "execution_count": 8,
   "id": "800fecad",
   "metadata": {},
   "outputs": [],
   "source": [
    "start = copy.deepcopy(params)\n",
    "start['spin_1z'] += 0.1\n",
    "start['spin_2z'] += 0.1"
   ]
  },
  {
   "cell_type": "code",
   "execution_count": 9,
   "id": "dbcc1b75",
   "metadata": {},
   "outputs": [],
   "source": [
    "dx_directions = ['spin_1z', 'spin_2z']\n",
    "mismatch = 0.03"
   ]
  },
  {
   "cell_type": "code",
   "execution_count": 10,
   "id": "bdf3eb96",
   "metadata": {},
   "outputs": [],
   "source": [
    "x_peak, match = metric.find_best_match(h0, start, dx_directions, psds['f_low'], pycbc_psd['harm'], \n",
    "                                     approximant=approximant, mismatch=mismatch)"
   ]
  },
  {
   "cell_type": "code",
   "execution_count": 11,
   "id": "0f1f2ab7",
   "metadata": {},
   "outputs": [
    {
     "name": "stdout",
     "output_type": "stream",
     "text": [
      "0.9956601333276608 0.03\n",
      "0.9967401362177459 0.0075\n",
      "0.9998035108839411 0.001875\n"
     ]
    }
   ],
   "source": [
    "while mismatch > 1e-3:\n",
    "    x_peak, match = metric.find_best_match(h0, x_peak, dx_directions, psds['f_low'], pycbc_psd['harm'], \n",
    "                                     approximant=approximant, mismatch=mismatch, tolerance=0.05)\n",
    "    print(match, mismatch)\n",
    "    mismatch /=4\n"
   ]
  },
  {
   "cell_type": "code",
   "execution_count": 12,
   "id": "702f3ed1",
   "metadata": {},
   "outputs": [
    {
     "name": "stdout",
     "output_type": "stream",
     "text": [
      "best match: 0.9998\n",
      "at parameters\n",
      "{'mass_1': 30.0, 'mass_2': 10.0, 'spin_1z': 0.3462773308897064, 'spin_2z': -0.19460221262948763}\n"
     ]
    }
   ],
   "source": [
    "print(\"best match: %.4f\" % match)\n",
    "print(\"at parameters\")\n",
    "print(x_peak)"
   ]
  },
  {
   "cell_type": "markdown",
   "id": "0e8dc1d7",
   "metadata": {},
   "source": [
    "Offset masses"
   ]
  },
  {
   "cell_type": "code",
   "execution_count": 13,
   "id": "0e9282fe",
   "metadata": {},
   "outputs": [],
   "source": [
    "params = {'chirp_mass': mc,\n",
    "          'symmetric_mass_ratio': eta,\n",
    "          'chi_eff': chi_eff\n",
    "        }\n",
    "h0 = metric.make_waveform(params, params, 0., 1., psds['delta_f'], psds['f_low'], \n",
    "                         len(pycbc_psd['harm']), approximant)"
   ]
  },
  {
   "cell_type": "code",
   "execution_count": 14,
   "id": "c3fb5a33",
   "metadata": {},
   "outputs": [],
   "source": [
    "start = copy.deepcopy(params)\n",
    "start['chirp_mass'] += 0.1\n",
    "start['chi_eff'] += 0.1"
   ]
  },
  {
   "cell_type": "code",
   "execution_count": 15,
   "id": "ed1995e3",
   "metadata": {},
   "outputs": [],
   "source": [
    "dx_directions = ['chirp_mass', 'symmetric_mass_ratio', 'chi_eff']\n",
    "mismatch = 0.02"
   ]
  },
  {
   "cell_type": "code",
   "execution_count": 16,
   "id": "09b8e410",
   "metadata": {},
   "outputs": [
    {
     "name": "stdout",
     "output_type": "stream",
     "text": [
      "0.9978010218578469 0.02\n",
      "0.9999552050735097 0.005\n",
      "0.9999898235654362 0.00125\n"
     ]
    }
   ],
   "source": [
    "x_peak = start\n",
    "while mismatch > 1e-3:\n",
    "    x_peak, match = metric.find_best_match(h0, x_peak, dx_directions, psds['f_low'], pycbc_psd['harm'], \n",
    "                                     approximant=approximant, mismatch=mismatch, tolerance=0.05)\n",
    "    print(match, mismatch)\n",
    "    mismatch /=4"
   ]
  },
  {
   "cell_type": "code",
   "execution_count": 17,
   "id": "563cab4e",
   "metadata": {},
   "outputs": [
    {
     "name": "stdout",
     "output_type": "stream",
     "text": [
      "mismatch: 1.018e-05\n",
      "at parameters\n",
      "{'chirp_mass': 14.647039106893113, 'symmetric_mass_ratio': 0.18932810940908154, 'chi_eff': 0.21830690143616632}\n"
     ]
    }
   ],
   "source": [
    "print(\"mismatch: %.4g\" % (1 - match) )\n",
    "print(\"at parameters\")\n",
    "print(x_peak)"
   ]
  },
  {
   "cell_type": "code",
   "execution_count": 18,
   "id": "eaff2bd3",
   "metadata": {},
   "outputs": [
    {
     "name": "stdout",
     "output_type": "stream",
     "text": [
      "{'chirp_mass': 14.650780257917608, 'symmetric_mass_ratio': 0.1875, 'chi_eff': 0.225}\n"
     ]
    }
   ],
   "source": [
    "print(params)"
   ]
  },
  {
   "cell_type": "markdown",
   "id": "0d06fce7",
   "metadata": {},
   "source": [
    "Now with scipy"
   ]
  },
  {
   "cell_type": "code",
   "execution_count": 19,
   "id": "b9102279",
   "metadata": {},
   "outputs": [],
   "source": [
    "x_peak, match = metric.find_best_match(h0, start, dx_directions, psds['f_low'], pycbc_psd['harm'], \n",
    "                                     approximant=approximant, method='scipy')"
   ]
  },
  {
   "cell_type": "code",
   "execution_count": 29,
   "id": "3a7b82f3",
   "metadata": {},
   "outputs": [
    {
     "name": "stdout",
     "output_type": "stream",
     "text": [
      "mismatch: 9.352e-06\n",
      "at parameters\n",
      "{'chirp_mass': 14.647224128477314, 'symmetric_mass_ratio': 0.18927511941008462, 'chi_eff': 0.21852659450854398}\n"
     ]
    }
   ],
   "source": [
    "print(\"mismatch: %.4g\" % (1 - match) )\n",
    "print(\"at parameters\")\n",
    "print(x_peak)"
   ]
  },
  {
   "cell_type": "code",
   "execution_count": null,
   "id": "06f00d81",
   "metadata": {},
   "outputs": [],
   "source": []
  }
 ],
 "metadata": {
  "kernelspec": {
   "display_name": "Python 3 (ipykernel)",
   "language": "python",
   "name": "python3"
  },
  "language_info": {
   "codemirror_mode": {
    "name": "ipython",
    "version": 3
   },
   "file_extension": ".py",
   "mimetype": "text/x-python",
   "name": "python",
   "nbconvert_exporter": "python",
   "pygments_lexer": "ipython3",
   "version": "3.8.12"
  }
 },
 "nbformat": 4,
 "nbformat_minor": 5
}
